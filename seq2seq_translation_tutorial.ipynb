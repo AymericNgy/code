{
 "cells": [
  {
   "cell_type": "code",
   "execution_count": 1,
   "metadata": {
    "id": "B1c76KwMMq6j",
    "ExecuteTime": {
     "end_time": "2024-01-23T17:45:59.441797200Z",
     "start_time": "2024-01-23T17:45:58.623369200Z"
    }
   },
   "outputs": [],
   "source": [
    "# For tips on running notebooks in Google Colab, see\n",
    "# https://pytorch.org/tutorials/beginner/colab\n",
    "%matplotlib inline"
   ]
  },
  {
   "cell_type": "markdown",
   "metadata": {
    "id": "sW8ntLF6Mq6l"
   },
   "source": [
    "\n",
    "# NLP From Scratch: Translation with a Sequence to Sequence Network and Attention\n",
    "**Author**: [Sean Robertson](https://github.com/spro)\n",
    "\n",
    "This is the third and final tutorial on doing \"NLP From Scratch\", where we\n",
    "write our own classes and functions to preprocess the data to do our NLP\n",
    "modeling tasks. We hope after you complete this tutorial that you'll proceed to\n",
    "learn how `torchtext` can handle much of this preprocessing for you in the\n",
    "three tutorials immediately following this one.\n",
    "\n",
    "In this project we will be teaching a neural network to translate from\n",
    "French to English.\n",
    "\n",
    "```sh\n",
    "[KEY: > input, = target, < output]\n",
    "\n",
    "> il est en train de peindre un tableau .\n",
    "= he is painting a picture .\n",
    "< he is painting a picture .\n",
    "\n",
    "> pourquoi ne pas essayer ce vin delicieux ?\n",
    "= why not try that delicious wine ?\n",
    "< why not try that delicious wine ?\n",
    "\n",
    "> elle n est pas poete mais romanciere .\n",
    "= she is not a poet but a novelist .\n",
    "< she not not a poet but a novelist .\n",
    "\n",
    "> vous etes trop maigre .\n",
    "= you re too skinny .\n",
    "< you re all alone .\n",
    "```\n",
    "... to varying degrees of success.\n",
    "\n",
    "This is made possible by the simple but powerful idea of the [sequence\n",
    "to sequence network](https://arxiv.org/abs/1409.3215)_, in which two\n",
    "recurrent neural networks work together to transform one sequence to\n",
    "another. An encoder network condenses an input sequence into a vector,\n",
    "and a decoder network unfolds that vector into a new sequence.\n",
    "\n",
    ".. figure:: /_static/img/seq-seq-images/seq2seq.png\n",
    "   :alt:\n",
    "\n",
    "To improve upon this model we'll use an [attention\n",
    "mechanism](https://arxiv.org/abs/1409.0473)_, which lets the decoder\n",
    "learn to focus over a specific range of the input sequence.\n",
    "\n",
    "**Recommended Reading:**\n",
    "\n",
    "I assume you have at least installed PyTorch, know Python, and\n",
    "understand Tensors:\n",
    "\n",
    "-  https://pytorch.org/ For installation instructions\n",
    "-  :doc:`/beginner/deep_learning_60min_blitz` to get started with PyTorch in general\n",
    "-  :doc:`/beginner/pytorch_with_examples` for a wide and deep overview\n",
    "-  :doc:`/beginner/former_torchies_tutorial` if you are former Lua Torch user\n",
    "\n",
    "\n",
    "It would also be useful to know about Sequence to Sequence networks and\n",
    "how they work:\n",
    "\n",
    "-  [Learning Phrase Representations using RNN Encoder-Decoder for\n",
    "   Statistical Machine Translation](https://arxiv.org/abs/1406.1078)_\n",
    "-  [Sequence to Sequence Learning with Neural\n",
    "   Networks](https://arxiv.org/abs/1409.3215)_\n",
    "-  [Neural Machine Translation by Jointly Learning to Align and\n",
    "   Translate](https://arxiv.org/abs/1409.0473)_\n",
    "-  [A Neural Conversational Model](https://arxiv.org/abs/1506.05869)_\n",
    "\n",
    "You will also find the previous tutorials on\n",
    ":doc:`/intermediate/char_rnn_classification_tutorial`\n",
    "and :doc:`/intermediate/char_rnn_generation_tutorial`\n",
    "helpful as those concepts are very similar to the Encoder and Decoder\n",
    "models, respectively.\n",
    "\n",
    "**Requirements**\n"
   ]
  },
  {
   "cell_type": "code",
   "execution_count": 2,
   "metadata": {
    "id": "tpHQgE_ZMq6n",
    "ExecuteTime": {
     "end_time": "2024-01-23T17:46:05.301741900Z",
     "start_time": "2024-01-23T17:45:59.443792Z"
    }
   },
   "outputs": [
    {
     "name": "stdout",
     "output_type": "stream",
     "text": [
      "cuda\n"
     ]
    }
   ],
   "source": [
    "from __future__ import unicode_literals, print_function, division\n",
    "from io import open\n",
    "import unicodedata\n",
    "import re\n",
    "import random\n",
    "\n",
    "import torch\n",
    "import torch.nn as nn\n",
    "from torch import optim\n",
    "import torch.nn.functional as F\n",
    "\n",
    "import numpy as np\n",
    "from torch.utils.data import TensorDataset, DataLoader, RandomSampler\n",
    "\n",
    "device = torch.device(\"cuda\" if torch.cuda.is_available() else \"cpu\")\n",
    "# device = \"cpu\"\n",
    "print(device)"
   ]
  },
  {
   "cell_type": "markdown",
   "metadata": {
    "id": "m5gVHSxfMq6o"
   },
   "source": [
    "## Loading data files\n",
    "\n",
    "The data for this project is a set of many thousands of English to\n",
    "French translation pairs.\n",
    "\n",
    "[This question on Open Data Stack\n",
    "Exchange](https://opendata.stackexchange.com/questions/3888/dataset-of-sentences-translated-into-many-languages)_\n",
    "pointed me to the open translation site https://tatoeba.org/ which has\n",
    "downloads available at https://tatoeba.org/eng/downloads - and better\n",
    "yet, someone did the extra work of splitting language pairs into\n",
    "individual text files here: https://www.manythings.org/anki/\n",
    "\n",
    "The English to French pairs are too big to include in the repository, so\n",
    "download to ``data/eng-fra.txt`` before continuing. The file is a tab\n",
    "separated list of translation pairs:\n",
    "\n",
    "```sh\n",
    "I am cold.    J'ai froid.\n",
    "```\n",
    "<div class=\"alert alert-info\"><h4>Note</h4><p>Download the data from\n",
    "   [here](https://download.pytorch.org/tutorial/data.zip)\n",
    "   and extract it to the current directory.</p></div>\n",
    "\n"
   ]
  },
  {
   "cell_type": "markdown",
   "metadata": {
    "id": "3AUrVD31Mq6p"
   },
   "source": [
    "Similar to the character encoding used in the character-level RNN\n",
    "tutorials, we will be representing each word in a language as a one-hot\n",
    "vector, or giant vector of zeros except for a single one (at the index\n",
    "of the word). Compared to the dozens of characters that might exist in a\n",
    "language, there are many many more words, so the encoding vector is much\n",
    "larger. We will however cheat a bit and trim the data to only use a few\n",
    "thousand words per language.\n",
    "\n",
    ".. figure:: /_static/img/seq-seq-images/word-encoding.png\n",
    "   :alt:\n",
    "\n",
    "\n",
    "\n"
   ]
  },
  {
   "cell_type": "markdown",
   "metadata": {
    "id": "fg7gYj7mMq6p"
   },
   "source": [
    "We'll need a unique index per word to use as the inputs and targets of\n",
    "the networks later. To keep track of all this we will use a helper class\n",
    "called ``Lang`` which has word → index (``word2index``) and index → word\n",
    "(``index2word``) dictionaries, as well as a count of each word\n",
    "``word2count`` which will be used to replace rare words later.\n",
    "\n",
    "\n"
   ]
  },
  {
   "cell_type": "code",
   "execution_count": 3,
   "metadata": {
    "id": "Mk5gvSs_Mq6q",
    "ExecuteTime": {
     "end_time": "2024-01-23T17:46:05.323163200Z",
     "start_time": "2024-01-23T17:46:05.297620200Z"
    }
   },
   "outputs": [],
   "source": [
    "SOS_token = 0\n",
    "EOS_token = 1\n",
    "\n",
    "\n",
    "class Lang:\n",
    "    def __init__(self, name):\n",
    "        self.name = name\n",
    "        self.word2index = {}\n",
    "        self.word2count = {}\n",
    "        self.index2word = {0: \"SOS\", 1: \"EOS\"}\n",
    "        self.n_words = 2  # Count SOS and EOS\n",
    "\n",
    "    def addSentence(self, sentence):\n",
    "        for word in sentence.split(' '):\n",
    "            self.addWord(word)\n",
    "\n",
    "    def addWord(self, word):\n",
    "        if word not in self.word2index:\n",
    "            self.word2index[word] = self.n_words\n",
    "            self.word2count[word] = 1\n",
    "            self.index2word[self.n_words] = word\n",
    "            self.n_words += 1\n",
    "        else:\n",
    "            self.word2count[word] += 1"
   ]
  },
  {
   "cell_type": "markdown",
   "metadata": {
    "id": "QPUMJRCmMq6r"
   },
   "source": [
    "The files are all in Unicode, to simplify we will turn Unicode\n",
    "characters to ASCII, make everything lowercase, and trim most\n",
    "punctuation.\n",
    "\n",
    "\n"
   ]
  },
  {
   "cell_type": "code",
   "execution_count": 4,
   "metadata": {
    "id": "Kifr59JVMq6s",
    "ExecuteTime": {
     "end_time": "2024-01-23T17:46:05.324160300Z",
     "start_time": "2024-01-23T17:46:05.307556100Z"
    }
   },
   "outputs": [],
   "source": [
    "# Turn a Unicode string to plain ASCII, thanks to\n",
    "# https://stackoverflow.com/a/518232/2809427\n",
    "def unicodeToAscii(s):\n",
    "    return ''.join(\n",
    "        c for c in unicodedata.normalize('NFD', s)\n",
    "        if unicodedata.category(c) != 'Mn'\n",
    "    )\n",
    "\n",
    "\n",
    "# Lowercase, trim, and remove non-letter characters\n",
    "def normalizeString(s):\n",
    "    s = unicodeToAscii(s.lower().strip())\n",
    "    s = re.sub(r\"([.!?])\", r\" \\1\", s)\n",
    "    s = re.sub(r\"[^a-zA-Z!?]+\", r\" \", s)\n",
    "    return s.strip()"
   ]
  },
  {
   "cell_type": "markdown",
   "metadata": {
    "id": "ca0T2rA6Mq6s"
   },
   "source": [
    "To read the data file we will split the file into lines, and then split\n",
    "lines into pairs. The files are all English → Other Language, so if we\n",
    "want to translate from Other Language → English I added the ``reverse``\n",
    "flag to reverse the pairs.\n",
    "\n",
    "\n"
   ]
  },
  {
   "cell_type": "code",
   "execution_count": 5,
   "metadata": {
    "id": "iqgBAhegMq6t",
    "ExecuteTime": {
     "end_time": "2024-01-23T17:46:05.324160300Z",
     "start_time": "2024-01-23T17:46:05.315758800Z"
    }
   },
   "outputs": [],
   "source": [
    "def readLangs(lang1, lang2, reverse=False):\n",
    "    print(\"Reading lines...\")\n",
    "\n",
    "    # Read the file and split into lines\n",
    "    lines = open('data_tutorial/%s-%s.txt' % (lang1, lang2), encoding='utf-8'). \\\n",
    "        read().strip().split('\\n')\n",
    "\n",
    "    # Split every line into pairs and normalize\n",
    "    pairs = [[normalizeString(s) for s in l.split('\\t')] for l in lines]\n",
    "\n",
    "    # Reverse pairs, make Lang instances\n",
    "    if reverse:\n",
    "        pairs = [list(reversed(p)) for p in pairs]\n",
    "        input_lang = Lang(lang2)\n",
    "        output_lang = Lang(lang1)\n",
    "    else:\n",
    "        input_lang = Lang(lang1)\n",
    "        output_lang = Lang(lang2)\n",
    "\n",
    "    return input_lang, output_lang, pairs"
   ]
  },
  {
   "cell_type": "markdown",
   "metadata": {
    "id": "JEzcuouVMq6t"
   },
   "source": [
    "Since there are a *lot* of example sentences and we want to train\n",
    "something quickly, we'll trim the data set to only relatively short and\n",
    "simple sentences. Here the maximum length is 10 words (that includes\n",
    "ending punctuation) and we're filtering to sentences that translate to\n",
    "the form \"I am\" or \"He is\" etc. (accounting for apostrophes replaced\n",
    "earlier).\n",
    "\n",
    "\n"
   ]
  },
  {
   "cell_type": "code",
   "execution_count": 417,
   "metadata": {
    "id": "llSVd_yvMq6u",
    "ExecuteTime": {
     "end_time": "2024-01-23T19:59:59.447315300Z",
     "start_time": "2024-01-23T19:59:59.413392800Z"
    }
   },
   "outputs": [],
   "source": [
    "MAX_LENGTH = 27\n",
    "\n",
    "eng_prefixes = (\n",
    "    \"i am \", \"i m \",\n",
    "    \"he is\", \"he s \",\n",
    "    \"she is\", \"she s \",\n",
    "    \"you are\", \"you re \",\n",
    "    \"we are\", \"we re \",\n",
    "    \"they are\", \"they re \"\n",
    ")\n",
    "\n",
    "\n",
    "def filterPair(p):\n",
    "    return len(p[0].split(' ')) < MAX_LENGTH and \\\n",
    "        len(p[1].split(' ')) < MAX_LENGTH and \\\n",
    "        p[1].startswith(eng_prefixes)\n",
    "\n",
    "\n",
    "def filterPairs(pairs):\n",
    "    return [pair for pair in pairs if filterPair(pair)]"
   ]
  },
  {
   "cell_type": "markdown",
   "metadata": {
    "id": "9QHcBxBkMq6u"
   },
   "source": [
    "The full process for preparing the data is:\n",
    "\n",
    "-  Read text file and split into lines, split lines into pairs\n",
    "-  Normalize text, filter by length and content\n",
    "-  Make word lists from sentences in pairs\n",
    "\n",
    "\n"
   ]
  },
  {
   "cell_type": "code",
   "execution_count": 86,
   "metadata": {
    "id": "kcHMRGkPMq6u",
    "outputId": "3241c1d6-35c3-438f-f936-e2b007de1e67",
    "colab": {
     "base_uri": "https://localhost:8080/",
     "height": 404
    },
    "ExecuteTime": {
     "end_time": "2024-01-23T18:18:51.150334400Z",
     "start_time": "2024-01-23T18:18:43.969384500Z"
    }
   },
   "outputs": [
    {
     "name": "stdout",
     "output_type": "stream",
     "text": [
      "Reading lines...\n",
      "Read 135842 sentence pairs\n",
      "Trimmed to 11445 sentence pairs\n",
      "Counting words...\n",
      "Counted words:\n",
      "fra 4601\n",
      "eng 2991\n",
      "['je suis de votre cote', 'i m by your side']\n"
     ]
    }
   ],
   "source": [
    "def prepareData(lang1, lang2, reverse=False):\n",
    "    input_lang, output_lang, pairs = readLangs(lang1, lang2, reverse)\n",
    "    print(\"Read %s sentence pairs\" % len(pairs))\n",
    "    pairs = filterPairs(pairs)\n",
    "    print(\"Trimmed to %s sentence pairs\" % len(pairs))\n",
    "    print(\"Counting words...\")\n",
    "    for pair in pairs:\n",
    "        input_lang.addSentence(pair[0])\n",
    "        output_lang.addSentence(pair[1])\n",
    "    print(\"Counted words:\")\n",
    "    print(input_lang.name, input_lang.n_words)\n",
    "    print(output_lang.name, output_lang.n_words)\n",
    "    return input_lang, output_lang, pairs\n",
    "\n",
    "\n",
    "input_lang, output_lang, pairs = prepareData('eng', 'fra', True)\n",
    "print(random.choice(pairs))"
   ]
  },
  {
   "cell_type": "markdown",
   "metadata": {
    "id": "kdiNxvBHMq6u"
   },
   "source": [
    "## The Seq2Seq Model\n",
    "\n",
    "A Recurrent Neural Network, or RNN, is a network that operates on a\n",
    "sequence and uses its own output as input for subsequent steps.\n",
    "\n",
    "A [Sequence to Sequence network](https://arxiv.org/abs/1409.3215)_, or\n",
    "seq2seq network, or [Encoder Decoder\n",
    "network](https://arxiv.org/pdf/1406.1078v3.pdf)_, is a model\n",
    "consisting of two RNNs called the encoder and decoder. The encoder reads\n",
    "an input sequence and outputs a single vector, and the decoder reads\n",
    "that vector to produce an output sequence.\n",
    "\n",
    ".. figure:: /_static/img/seq-seq-images/seq2seq.png\n",
    "   :alt:\n",
    "\n",
    "Unlike sequence prediction with a single RNN, where every input\n",
    "corresponds to an output, the seq2seq model frees us from sequence\n",
    "length and order, which makes it ideal for translation between two\n",
    "languages.\n",
    "\n",
    "Consider the sentence ``Je ne suis pas le chat noir`` → ``I am not the\n",
    "black cat``. Most of the words in the input sentence have a direct\n",
    "translation in the output sentence, but are in slightly different\n",
    "orders, e.g. ``chat noir`` and ``black cat``. Because of the ``ne/pas``\n",
    "construction there is also one more word in the input sentence. It would\n",
    "be difficult to produce a correct translation directly from the sequence\n",
    "of input words.\n",
    "\n",
    "With a seq2seq model the encoder creates a single vector which, in the\n",
    "ideal case, encodes the \"meaning\" of the input sequence into a single\n",
    "vector — a single point in some N dimensional space of sentences.\n",
    "\n",
    "\n"
   ]
  },
  {
   "cell_type": "markdown",
   "metadata": {
    "id": "3hySduuvMq6v"
   },
   "source": [
    "### The Encoder\n",
    "\n",
    "The encoder of a seq2seq network is a RNN that outputs some value for\n",
    "every word from the input sentence. For every input word the encoder\n",
    "outputs a vector and a hidden state, and uses the hidden state for the\n",
    "next input word.\n",
    "\n",
    ".. figure:: /_static/img/seq-seq-images/encoder-network.png\n",
    "   :alt:\n",
    "\n",
    "\n",
    "\n"
   ]
  },
  {
   "cell_type": "code",
   "execution_count": 87,
   "metadata": {
    "id": "5T_DAns-Mq6v",
    "ExecuteTime": {
     "end_time": "2024-01-23T18:18:51.150334400Z",
     "start_time": "2024-01-23T18:18:51.097318700Z"
    }
   },
   "outputs": [],
   "source": [
    "class EncoderRNN(nn.Module):\n",
    "    def __init__(self, input_size, hidden_size, dropout_p=0.1):\n",
    "        super(EncoderRNN, self).__init__()\n",
    "        self.hidden_size = hidden_size\n",
    "\n",
    "        self.embedding = nn.Embedding(input_size, hidden_size)\n",
    "        self.gru = nn.GRU(hidden_size, hidden_size, batch_first=True)\n",
    "        self.dropout = nn.Dropout(dropout_p)\n",
    "\n",
    "    def forward(self, input):\n",
    "        embedded = self.dropout(self.embedding(input))\n",
    "        output, hidden = self.gru(embedded)\n",
    "        return output, hidden"
   ]
  },
  {
   "cell_type": "markdown",
   "metadata": {
    "id": "rsCKj4NmMq6v"
   },
   "source": [
    "### The Decoder\n",
    "\n",
    "The decoder is another RNN that takes the encoder output vector(s) and\n",
    "outputs a sequence of words to create the translation.\n",
    "\n",
    "\n"
   ]
  },
  {
   "cell_type": "markdown",
   "metadata": {
    "id": "a-OyylxlMq6w"
   },
   "source": [
    "#### Simple Decoder\n",
    "\n",
    "In the simplest seq2seq decoder we use only last output of the encoder.\n",
    "This last output is sometimes called the *context vector* as it encodes\n",
    "context from the entire sequence. This context vector is used as the\n",
    "initial hidden state of the decoder.\n",
    "\n",
    "At every step of decoding, the decoder is given an input token and\n",
    "hidden state. The initial input token is the start-of-string ``<SOS>``\n",
    "token, and the first hidden state is the context vector (the encoder's\n",
    "last hidden state).\n",
    "\n",
    ".. figure:: /_static/img/seq-seq-images/decoder-network.png\n",
    "   :alt:\n",
    "\n",
    "\n",
    "\n"
   ]
  },
  {
   "cell_type": "code",
   "execution_count": 88,
   "metadata": {
    "id": "fo91-_huMq6w",
    "ExecuteTime": {
     "end_time": "2024-01-23T18:18:51.150334400Z",
     "start_time": "2024-01-23T18:18:51.110542900Z"
    }
   },
   "outputs": [],
   "source": [
    "class DecoderRNN(nn.Module):\n",
    "    def __init__(self, hidden_size, output_size):\n",
    "        super(DecoderRNN, self).__init__()\n",
    "        self.embedding = nn.Embedding(output_size, hidden_size)\n",
    "        self.gru = nn.GRU(hidden_size, hidden_size, batch_first=True)\n",
    "        self.out = nn.Linear(hidden_size, output_size)\n",
    "\n",
    "    def forward(self, encoder_outputs, encoder_hidden, target_tensor=None):\n",
    "        batch_size = encoder_outputs.size(0)\n",
    "        decoder_input = torch.empty(batch_size, 1, dtype=torch.long, device=device).fill_(SOS_token)\n",
    "        decoder_hidden = encoder_hidden\n",
    "        decoder_outputs = []\n",
    "\n",
    "        for i in range(MAX_LENGTH):\n",
    "            decoder_output, decoder_hidden = self.forward_step(decoder_input, decoder_hidden)\n",
    "            decoder_outputs.append(decoder_output)\n",
    "\n",
    "            if target_tensor is not None:\n",
    "                # Teacher forcing: Feed the target as the next input\n",
    "                decoder_input = target_tensor[:, i].unsqueeze(1)  # Teacher forcing\n",
    "            else:\n",
    "                # Without teacher forcing: use its own predictions as the next input\n",
    "                _, topi = decoder_output.topk(1)\n",
    "                decoder_input = topi.squeeze(-1).detach()  # detach from history as input\n",
    "\n",
    "        decoder_outputs = torch.cat(decoder_outputs, dim=1)\n",
    "        decoder_outputs = F.log_softmax(decoder_outputs, dim=-1)\n",
    "        return decoder_outputs, decoder_hidden, None  # We return `None` for consistency in the training loop\n",
    "\n",
    "    def forward_step(self, input, hidden):\n",
    "        output = self.embedding(input)\n",
    "        output = F.relu(output)\n",
    "        output, hidden = self.gru(output, hidden)\n",
    "        output = self.out(output)\n",
    "        return output, hidden"
   ]
  },
  {
   "cell_type": "markdown",
   "metadata": {
    "id": "IxK0VnZ4Mq6w"
   },
   "source": [
    "I encourage you to train and observe the results of this model, but to\n",
    "save space we'll be going straight for the gold and introducing the\n",
    "Attention Mechanism.\n",
    "\n",
    "\n"
   ]
  },
  {
   "cell_type": "markdown",
   "metadata": {
    "id": "-vtlqDCaMq6w"
   },
   "source": [
    "#### Attention Decoder\n",
    "\n",
    "If only the context vector is passed between the encoder and decoder,\n",
    "that single vector carries the burden of encoding the entire sentence.\n",
    "\n",
    "Attention allows the decoder network to \"focus\" on a different part of\n",
    "the encoder's outputs for every step of the decoder's own outputs. First\n",
    "we calculate a set of *attention weights*. These will be multiplied by\n",
    "the encoder output vectors to create a weighted combination. The result\n",
    "(called ``attn_applied`` in the code) should contain information about\n",
    "that specific part of the input sequence, and thus help the decoder\n",
    "choose the right output words.\n",
    "\n",
    ".. figure:: https://i.imgur.com/1152PYf.png\n",
    "   :alt:\n",
    "\n",
    "Calculating the attention weights is done with another feed-forward\n",
    "layer ``attn``, using the decoder's input and hidden state as inputs.\n",
    "Because there are sentences of all sizes in the training data, to\n",
    "actually create and train this layer we have to choose a maximum\n",
    "sentence length (input length, for encoder outputs) that it can apply\n",
    "to. Sentences of the maximum length will use all the attention weights,\n",
    "while shorter sentences will only use the first few.\n",
    "\n",
    ".. figure:: /_static/img/seq-seq-images/attention-decoder-network.png\n",
    "   :alt:\n",
    "\n",
    "\n",
    "Bahdanau attention, also known as additive attention, is a commonly used\n",
    "attention mechanism in sequence-to-sequence models, particularly in neural\n",
    "machine translation tasks. It was introduced by Bahdanau et al. in their\n",
    "paper titled [Neural Machine Translation by Jointly Learning to Align and Translate](https://arxiv.org/pdf/1409.0473.pdf)_.\n",
    "This attention mechanism employs a learned alignment model to compute attention\n",
    "scores between the encoder and decoder hidden states. It utilizes a feed-forward\n",
    "neural network to calculate alignment scores.\n",
    "\n",
    "However, there are alternative attention mechanisms available, such as Luong attention,\n",
    "which computes attention scores by taking the dot product between the decoder hidden\n",
    "state and the encoder hidden states. It does not involve the non-linear transformation\n",
    "used in Bahdanau attention.\n",
    "\n",
    "In this tutorial, we will be using Bahdanau attention. However, it would be a valuable\n",
    "exercise to explore modifying the attention mechanism to use Luong attention.\n",
    "\n"
   ]
  },
  {
   "cell_type": "code",
   "execution_count": 89,
   "metadata": {
    "id": "0SlTqDEZMq6x",
    "ExecuteTime": {
     "end_time": "2024-01-23T18:18:51.150334400Z",
     "start_time": "2024-01-23T18:18:51.127726400Z"
    }
   },
   "outputs": [],
   "source": [
    "class BahdanauAttention(nn.Module):\n",
    "    def __init__(self, hidden_size):\n",
    "        super(BahdanauAttention, self).__init__()\n",
    "        self.Wa = nn.Linear(hidden_size, hidden_size)\n",
    "        self.Ua = nn.Linear(hidden_size, hidden_size)\n",
    "        self.Va = nn.Linear(hidden_size, 1)\n",
    "\n",
    "    def forward(self, query, keys):\n",
    "        scores = self.Va(torch.tanh(self.Wa(query) + self.Ua(keys)))\n",
    "        scores = scores.squeeze(2).unsqueeze(1)\n",
    "\n",
    "        weights = F.softmax(scores, dim=-1)\n",
    "        context = torch.bmm(weights, keys)\n",
    "\n",
    "        return context, weights\n",
    "\n",
    "\n",
    "class AttnDecoderRNN(nn.Module):\n",
    "    def __init__(self, hidden_size, output_size, dropout_p=0.1):\n",
    "        super(AttnDecoderRNN, self).__init__()\n",
    "        self.embedding = nn.Embedding(output_size, hidden_size)\n",
    "        self.attention = BahdanauAttention(hidden_size)\n",
    "        self.gru = nn.GRU(2 * hidden_size, hidden_size, batch_first=True)\n",
    "        self.out = nn.Linear(hidden_size, output_size)\n",
    "        self.dropout = nn.Dropout(dropout_p)\n",
    "\n",
    "    def forward(self, encoder_outputs, encoder_hidden, target_tensor=None):\n",
    "        batch_size = encoder_outputs.size(0)\n",
    "        decoder_input = torch.empty(batch_size, 1, dtype=torch.long, device=device).fill_(SOS_token)\n",
    "        decoder_hidden = encoder_hidden\n",
    "        decoder_outputs = []\n",
    "        attentions = []\n",
    "\n",
    "        for i in range(MAX_LENGTH):\n",
    "            decoder_output, decoder_hidden, attn_weights = self.forward_step(\n",
    "                decoder_input, decoder_hidden, encoder_outputs\n",
    "            )\n",
    "            decoder_outputs.append(decoder_output)\n",
    "            attentions.append(attn_weights)\n",
    "\n",
    "            if target_tensor is not None:\n",
    "                # Teacher forcing: Feed the target as the next input\n",
    "                decoder_input = target_tensor[:, i].unsqueeze(1)  # Teacher forcing\n",
    "            else:\n",
    "                # Without teacher forcing: use its own predictions as the next input\n",
    "                _, topi = decoder_output.topk(1)\n",
    "                decoder_input = topi.squeeze(-1).detach()  # detach from history as input\n",
    "\n",
    "        decoder_outputs = torch.cat(decoder_outputs, dim=1)\n",
    "        decoder_outputs = F.log_softmax(decoder_outputs, dim=-1)\n",
    "        attentions = torch.cat(attentions, dim=1)\n",
    "\n",
    "        return decoder_outputs, decoder_hidden, attentions\n",
    "\n",
    "    def forward_step(self, input, hidden, encoder_outputs):\n",
    "        embedded = self.dropout(self.embedding(input))\n",
    "\n",
    "        query = hidden.permute(1, 0, 2)\n",
    "        context, attn_weights = self.attention(query, encoder_outputs)\n",
    "        input_gru = torch.cat((embedded, context), dim=2)\n",
    "\n",
    "        output, hidden = self.gru(input_gru, hidden)\n",
    "        output = self.out(output)\n",
    "\n",
    "        return output, hidden, attn_weights"
   ]
  },
  {
   "cell_type": "markdown",
   "metadata": {
    "id": "fVBPZ4ZfMq6x"
   },
   "source": [
    "<div class=\"alert alert-info\"><h4>Note</h4><p>There are other forms of attention that work around the length\n",
    "  limitation by using a relative position approach. Read about \"local\n",
    "  attention\" in [Effective Approaches to Attention-based Neural Machine\n",
    "  Translation](https://arxiv.org/abs/1508.04025)_.</p></div>\n",
    "\n",
    "## Training\n",
    "\n",
    "### Preparing Training Data\n",
    "\n",
    "To train, for each pair we will need an input tensor (indexes of the\n",
    "words in the input sentence) and target tensor (indexes of the words in\n",
    "the target sentence). While creating these vectors we will append the\n",
    "EOS token to both sequences.\n",
    "\n",
    "\n"
   ]
  },
  {
   "cell_type": "code",
   "execution_count": 90,
   "metadata": {
    "id": "yAaHsx_EMq6x",
    "ExecuteTime": {
     "end_time": "2024-01-23T18:18:53.840936900Z",
     "start_time": "2024-01-23T18:18:53.813384900Z"
    }
   },
   "outputs": [],
   "source": [
    "def indexesFromSentence(lang, sentence):\n",
    "    return [lang.word2index[word] for word in sentence.split(' ')]\n",
    "\n",
    "\n",
    "def tensorFromSentence(lang, sentence):\n",
    "    indexes = indexesFromSentence(lang, sentence)\n",
    "    indexes.append(EOS_token)\n",
    "    return torch.tensor(indexes, dtype=torch.long, device=device).view(1, -1)\n",
    "\n",
    "\n",
    "def tensorsFromPair(pair):\n",
    "    input_tensor = tensorFromSentence(input_lang, pair[0])\n",
    "    target_tensor = tensorFromSentence(output_lang, pair[1])\n",
    "    return (input_tensor, target_tensor)\n",
    "\n",
    "\n",
    "def get_dataloader(batch_size):\n",
    "    input_lang, output_lang, pairs = prepareData('eng', 'fra', True)\n",
    "\n",
    "    n = len(pairs)\n",
    "    input_ids = np.zeros((n, MAX_LENGTH), dtype=np.int32)\n",
    "    target_ids = np.zeros((n, MAX_LENGTH), dtype=np.int32)\n",
    "\n",
    "    for idx, (inp, tgt) in enumerate(pairs):\n",
    "        inp_ids = indexesFromSentence(input_lang, inp)\n",
    "        tgt_ids = indexesFromSentence(output_lang, tgt)\n",
    "        inp_ids.append(EOS_token)\n",
    "        tgt_ids.append(EOS_token)\n",
    "        input_ids[idx, :len(inp_ids)] = inp_ids\n",
    "        target_ids[idx, :len(tgt_ids)] = tgt_ids\n",
    "\n",
    "    train_data = TensorDataset(torch.LongTensor(input_ids).to(device),\n",
    "                               torch.LongTensor(target_ids).to(device))\n",
    "\n",
    "    train_sampler = RandomSampler(train_data)\n",
    "    train_dataloader = DataLoader(train_data, sampler=train_sampler, batch_size=batch_size)\n",
    "    return input_lang, output_lang, train_dataloader"
   ]
  },
  {
   "cell_type": "markdown",
   "source": [
    "Implementation of own data"
   ],
   "metadata": {
    "collapsed": false
   }
  },
  {
   "cell_type": "code",
   "execution_count": 91,
   "outputs": [
    {
     "name": "stdout",
     "output_type": "stream",
     "text": [
      "Reading lines...\n",
      "Read 135842 sentence pairs\n",
      "Trimmed to 11445 sentence pairs\n",
      "Counting words...\n",
      "Counted words:\n",
      "fra 4601\n",
      "eng 2991\n"
     ]
    }
   ],
   "source": [
    "batch_size = 5\n",
    "\n",
    "input_lang, output_lang, train_dataloader = get_dataloader(batch_size)"
   ],
   "metadata": {
    "collapsed": false,
    "ExecuteTime": {
     "end_time": "2024-01-23T18:19:06.573877700Z",
     "start_time": "2024-01-23T18:18:56.048590800Z"
    }
   }
  },
  {
   "cell_type": "code",
   "execution_count": 92,
   "outputs": [
    {
     "name": "stdout",
     "output_type": "stream",
     "text": [
      "2\n",
      "torch.Size([5, 10])\n",
      "<__main__.Lang object at 0x000001FB54A29790>\n",
      "<__main__.Lang object at 0x000001FB5F89C250>\n"
     ]
    }
   ],
   "source": [
    "batch = next(iter(train_dataloader))\n",
    "print(len(batch))\n",
    "print(batch[0].shape)\n",
    "print(input_lang)\n",
    "print(output_lang)"
   ],
   "metadata": {
    "collapsed": false,
    "ExecuteTime": {
     "end_time": "2024-01-23T18:19:06.574875400Z",
     "start_time": "2024-01-23T18:19:06.529765500Z"
    }
   }
  },
  {
   "cell_type": "code",
   "execution_count": 188,
   "outputs": [],
   "source": [
    "def bytes2torch(bytes):\n",
    "    if not type(bytes) is list:\n",
    "        data_integers = list(bytes)\n",
    "\n",
    "    data_tensor = torch.tensor(data_integers, dtype=torch.uint8)\n",
    "\n",
    "    return data_tensor\n",
    "\n",
    "\n",
    "def tokenizer(byte_tensor, length, device):\n",
    "    \"\"\"\"\n",
    "    :param byte_tensor: torch tensor uint8\n",
    "    :param length: length of the output, complete with padding if shorter\n",
    "    :return: torch tensor int16\n",
    "    \"\"\"\n",
    "    new_tensor = (byte_tensor[:length] + 1)\n",
    "    zero_tensor = torch.zeros(length, dtype=torch.int64).to(device)\n",
    "    zero_tensor[:new_tensor.size(0)] = new_tensor\n",
    "\n",
    "    return zero_tensor\n"
   ],
   "metadata": {
    "collapsed": false,
    "ExecuteTime": {
     "end_time": "2024-01-23T18:27:25.319401400Z",
     "start_time": "2024-01-23T18:27:25.272430800Z"
    }
   }
  },
  {
   "cell_type": "code",
   "execution_count": 94,
   "outputs": [],
   "source": [
    "import lzma\n",
    "\n",
    "import sys\n",
    "import LZ77\n",
    "\n",
    "import random\n",
    "import string\n",
    "\n",
    "\n",
    "# def string_to_ascii_tensor(input_string):\n",
    "#     # Convertir chaque caractère de la chaîne en sa valeur ASCII\n",
    "#     ascii_values = [ord(char) for char in input_string]\n",
    "# \n",
    "#     # Créer un tensor à partir de la liste de valeurs ASCII\n",
    "#     ascii_tensor = torch.tensor(ascii_values, dtype=torch.int32)\n",
    "# \n",
    "#     return ascii_tensor\n",
    "\n",
    "\n",
    "# def generate_random_ascii_bytes(length):\n",
    "#     ascii_characters = string.ascii_letters + string.digits + string.punctuation\n",
    "#     dim = (len(ascii_characters))\n",
    "#     random_ascii_text = ''.join(random.choice(ascii_characters) for _ in range(length))\n",
    "#     # Convertir la chaîne de caractères en bytes en utilisant encode\n",
    "#     random_ascii_bytes = random_ascii_text.encode('utf-8')\n",
    "#     return random_ascii_bytes, dim\n",
    "\n",
    "# def generate_random_ascii_bytes(length, repetition_probability=0.99):\n",
    "#     ascii_characters = string.ascii_letters + string.digits + string.punctuation\n",
    "#     dim = len(ascii_characters)\n",
    "#     random_ascii_text = ''\n",
    "#     \n",
    "#     for _ in range(length):\n",
    "#         if random.random() < repetition_probability and random_ascii_text:\n",
    "#             # Répétition d'un caractère existant\n",
    "#             random_ascii_text += random.choice(random_ascii_text)\n",
    "#         else:\n",
    "#             # Choix aléatoire d'un nouveau caractère\n",
    "#             random_ascii_text += random.choice(ascii_characters)\n",
    "# \n",
    "#     # Convertir la chaîne de caractères en bytes en utilisant encode\n",
    "#     random_ascii_bytes = random_ascii_text.encode('utf-8')\n",
    "#     return random_ascii_bytes, dim\n",
    "# \n",
    "# \n",
    "# def generateSample(max_length):\n",
    "#     text, _ = generate_random_ascii_bytes(max_length)  # random.randint(max_length // 2, max_length)\n",
    "#     compress = lzma.compress(text)\n",
    "#     text_tensor = text\n",
    "#     compress_tensor = compress\n",
    "# \n",
    "#     # print(len(text_tensor))\n",
    "#     # print(len(compress_tensor))\n",
    "#     # print()\n",
    "#     \n",
    "#     txt_len = len(text_tensor)\n",
    "#     cmp_len = len(compress_tensor)\n",
    "#     \n",
    "#     return txt_len, cmp_len \n",
    "\n",
    "\n"
   ],
   "metadata": {
    "collapsed": false,
    "ExecuteTime": {
     "end_time": "2024-01-23T18:19:06.574875400Z",
     "start_time": "2024-01-23T18:19:06.551032800Z"
    }
   }
  },
  {
   "cell_type": "code",
   "execution_count": 76,
   "outputs": [
    {
     "name": "stderr",
     "output_type": "stream",
     "text": [
      "100%|██████████| 10/10 [00:00<00:00, 159.89it/s]\n"
     ]
    }
   ],
   "source": [
    "from tqdm import tqdm\n",
    "\n",
    "total_max_length = MAX_LENGTH\n",
    "\n",
    "txt_lens = torch.zeros(total_max_length)\n",
    "cmp_lens = torch.zeros(total_max_length)\n",
    "for i in tqdm(range(total_max_length)):\n",
    "    tl, cl = generateSample(max_length=i)\n",
    "    txt_lens[i] = tl\n",
    "    cmp_lens[i] = cl\n",
    "\n",
    "import matplotlib.pyplot as plt\n",
    "\n",
    "plt.plot(txt_lens)\n",
    "plt.plot(cmp_lens)\n",
    "plt.savefig('./figure.png')\n",
    "plt.close()\n"
   ],
   "metadata": {
    "collapsed": false,
    "ExecuteTime": {
     "end_time": "2024-01-21T20:02:51.562081900Z",
     "start_time": "2024-01-21T20:02:51.368784400Z"
    }
   }
  },
  {
   "cell_type": "code",
   "execution_count": 96,
   "outputs": [],
   "source": [
    "import os\n",
    "from torch.utils.data import Dataset, DataLoader\n",
    "from torchvision import transforms\n",
    "\n",
    "\n",
    "class LZ77Dataset(Dataset):\n",
    "    def __init__(self, length, device, features_folder=\"./data_LZ77/text\", targets_folder=\"./data_LZ77/compress\",\n",
    "                 transform=None):\n",
    "        self.features_folder = features_folder\n",
    "        self.targets_folder = targets_folder\n",
    "        self.transform = transform\n",
    "        self.length = length\n",
    "        self.device = device\n",
    "\n",
    "        # Listes des noms de fichiers dans les dossiers\n",
    "        self.feature_files = os.listdir(features_folder)\n",
    "        self.target_files = os.listdir(targets_folder)\n",
    "\n",
    "    def __len__(self):\n",
    "        return min(len(self.feature_files), len(self.target_files))\n",
    "\n",
    "    def __getitem__(self, idx):\n",
    "        feature_path = os.path.join(self.features_folder, self.feature_files[idx])\n",
    "        target_path = os.path.join(self.targets_folder, self.target_files[idx])\n",
    "\n",
    "        with open(feature_path, 'rb') as feature_file:\n",
    "            feature_data = feature_file.read()\n",
    "        with open(target_path, 'rb') as target_file:\n",
    "            target_data = target_file.read()\n",
    "\n",
    "        if self.transform:\n",
    "            pass\n",
    "\n",
    "        feature_data = tokenizer(bytes2torch(feature_data), self.length, self.device)\n",
    "        target_data = tokenizer(bytes2torch(target_data), self.length, self.device)\n",
    "\n",
    "        return feature_data, target_data"
   ],
   "metadata": {
    "collapsed": false,
    "ExecuteTime": {
     "end_time": "2024-01-23T18:19:09.828880900Z",
     "start_time": "2024-01-23T18:19:09.797539600Z"
    }
   }
  },
  {
   "cell_type": "code",
   "execution_count": 97,
   "outputs": [],
   "source": [
    "from generate_data import generate_random_ascii_bytes\n",
    "\n",
    "\n",
    "def create_sample_in_place(compressor, length, repetition_probability):\n",
    "    text, dim = generate_random_ascii_bytes(length, repetition_probability)\n",
    "    compress = compressor.compress_in_place(text)\n",
    "\n",
    "    return text, compress\n"
   ],
   "metadata": {
    "collapsed": false,
    "ExecuteTime": {
     "end_time": "2024-01-23T18:19:13.312562Z",
     "start_time": "2024-01-23T18:19:13.297560100Z"
    }
   }
  },
  {
   "cell_type": "code",
   "execution_count": 224,
   "outputs": [],
   "source": [
    "import importlib\n",
    "\n",
    "import LZ77\n",
    "\n",
    "importlib.reload(LZ77)\n",
    "\n",
    "\n",
    "def bits_to_bytes(bits):\n",
    "    # print(type(bits))\n",
    "    return bits.tobytes()\n",
    "    # return [int(a[i:i+8].to01(), 2) for i in range(0, len(bits), 8)]\n",
    "\n",
    "# a = b'100101111100001001011'\n",
    "# print(bits_to_bytes(a))\n",
    "\n"
   ],
   "metadata": {
    "collapsed": false,
    "ExecuteTime": {
     "end_time": "2024-01-23T18:36:33.408074Z",
     "start_time": "2024-01-23T18:36:33.375324100Z"
    }
   }
  },
  {
   "cell_type": "code",
   "execution_count": 232,
   "outputs": [],
   "source": [
    "\n",
    "class LZ77Dataset_current_creation(Dataset):\n",
    "    def __init__(self, length_sentence, device, repetition_probability, size_data_set, lenght_max):\n",
    "        self.compressor = LZ77.LZ77Compressor()\n",
    "        self.length_sentence = length_sentence\n",
    "        self.device = device\n",
    "        self.repetition_probability = repetition_probability\n",
    "        self.size_data_set = size_data_set\n",
    "        self.lenght_max = lenght_max\n",
    "\n",
    "    def __len__(self):\n",
    "        return self.size_data_set\n",
    "\n",
    "    def __getitem__(self, idx):\n",
    "        text, compress = create_sample_in_place(self.compressor, self.length_sentence, self.repetition_probability)\n",
    "\n",
    "        feature_data = tokenizer(bytes2torch(text), self.lenght_max, self.device)\n",
    "        target_data = tokenizer(bytes2torch(bits_to_bytes(compress)), self.lenght_max, self.device)\n",
    "\n",
    "        return feature_data, target_data"
   ],
   "metadata": {
    "collapsed": false,
    "ExecuteTime": {
     "end_time": "2024-01-23T18:37:57.627284800Z",
     "start_time": "2024-01-23T18:37:57.584315500Z"
    }
   }
  },
  {
   "cell_type": "code",
   "execution_count": null,
   "outputs": [],
   "source": [],
   "metadata": {
    "collapsed": false
   }
  },
  {
   "cell_type": "code",
   "execution_count": 459,
   "outputs": [
    {
     "name": "stdout",
     "output_type": "stream",
     "text": [
      "test_size 200\n"
     ]
    }
   ],
   "source": [
    "from torch.utils.data import random_split\n",
    "\n",
    "lenght_max = MAX_LENGTH\n",
    "length_sentence = lenght_max - 7\n",
    "\n",
    "# DATA_SET\n",
    "# lz77_dataset = LZ77Dataset(length, device)\n",
    "repetition_probability = 0.5\n",
    "size_data_set = 1000\n",
    "lz77_dataset = LZ77Dataset_current_creation(length_sentence, device, repetition_probability, size_data_set, lenght_max)\n",
    "\n",
    "test_size = int(0.2 * len(lz77_dataset))  # Par exemple, 20% pour l'ensemble de test\n",
    "print(\"test_size\", test_size)\n",
    "\n",
    "# Diviser l'ensemble de données en ensembles d'entraînement et de test\n",
    "train_dataset, test_dataset = random_split(lz77_dataset, [len(lz77_dataset) - test_size, test_size])\n",
    "\n",
    "# Créer le DataLoader en utilisant l'instance du dataset\n",
    "batch_size = 5\n",
    "lz77_data_loader = DataLoader(lz77_dataset, batch_size=batch_size, shuffle=True)\n",
    "lz77_train_loader = DataLoader(train_dataset, batch_size=batch_size, shuffle=True)\n",
    "lz77_test_loader = DataLoader(test_dataset, batch_size=batch_size, shuffle=True)\n"
   ],
   "metadata": {
    "collapsed": false,
    "ExecuteTime": {
     "end_time": "2024-01-23T20:02:38.989929100Z",
     "start_time": "2024-01-23T20:02:38.950113200Z"
    }
   }
  },
  {
   "cell_type": "code",
   "execution_count": null,
   "outputs": [],
   "source": [],
   "metadata": {
    "collapsed": false
   }
  },
  {
   "cell_type": "code",
   "execution_count": 501,
   "outputs": [
    {
     "name": "stdout",
     "output_type": "stream",
     "text": [
      "tensor([ 80,  80,  80, 108,  80,  80,  64,  65,  74,  65, 113, 118,  34,  80,\n",
      "         74, 113,  34,  96,  74,  35,   0,   0,   0,   0,   0,   0,   0],\n",
      "       device='cuda:0')\n",
      "27\n",
      "tensor([ 40, 193,   5, 142, 113,   5,  34, 250,   1, 147,  65,  57,  30,  69,\n",
      "         37, 243,  74, 193,  67,  96,  37, 137, 129,   0,   0,   0,   0],\n",
      "       device='cuda:0')\n",
      "27\n"
     ]
    }
   ],
   "source": [
    "batch = next(iter(lz77_test_loader))\n",
    "print(batch[0][0])\n",
    "print(len(batch[0][0]))\n",
    "print(batch[1][0])\n",
    "print(len(batch[1][0]))"
   ],
   "metadata": {
    "collapsed": false,
    "ExecuteTime": {
     "end_time": "2024-01-23T22:24:51.373888900Z",
     "start_time": "2024-01-23T22:24:51.199134900Z"
    }
   }
  },
  {
   "cell_type": "code",
   "execution_count": 479,
   "outputs": [],
   "source": [
    "def get_dataloader_compression(batch_size, length, device):\n",
    "    lz77_dataset = LZ77Dataset(length, device)\n",
    "\n",
    "    # lz77_data_loader = DataLoader(lz77_dataset, batch_size=batch_size, shuffle=True)\n",
    "    lz77_train_loader = DataLoader(train_dataset, batch_size=batch_size, shuffle=True)\n",
    "    lz77_test_loader = DataLoader(test_dataset, batch_size=batch_size, shuffle=True)\n",
    "\n",
    "    encoding_byte_size = 255\n",
    "    n_context_word = 2\n",
    "\n",
    "    n_input_word = encoding_byte_size + n_context_word\n",
    "    n_output_word = n_input_word\n",
    "\n",
    "    return n_input_word, n_output_word, lz77_train_loader, lz77_test_loader"
   ],
   "metadata": {
    "collapsed": false,
    "ExecuteTime": {
     "end_time": "2024-01-23T20:02:48.365500800Z",
     "start_time": "2024-01-23T20:02:48.330881100Z"
    }
   }
  },
  {
   "cell_type": "markdown",
   "metadata": {
    "id": "wcPbqI3QMq6y"
   },
   "source": [
    "### Training the Model\n",
    "\n",
    "To train we run the input sentence through the encoder, and keep track\n",
    "of every output and the latest hidden state. Then the decoder is given\n",
    "the ``<SOS>`` token as its first input, and the last hidden state of the\n",
    "encoder as its first hidden state.\n",
    "\n",
    "\"Teacher forcing\" is the concept of using the real target outputs as\n",
    "each next input, instead of using the decoder's guess as the next input.\n",
    "Using teacher forcing causes it to converge faster but [when the trained\n",
    "network is exploited, it may exhibit\n",
    "instability](http://citeseerx.ist.psu.edu/viewdoc/download?doi=10.1.1.378.4095&rep=rep1&type=pdf)_.\n",
    "\n",
    "You can observe outputs of teacher-forced networks that read with\n",
    "coherent grammar but wander far from the correct translation -\n",
    "intuitively it has learned to represent the output grammar and can \"pick\n",
    "up\" the meaning once the teacher tells it the first few words, but it\n",
    "has not properly learned how to create the sentence from the translation\n",
    "in the first place.\n",
    "\n",
    "Because of the freedom PyTorch's autograd gives us, we can randomly\n",
    "choose to use teacher forcing or not with a simple if statement. Turn\n",
    "``teacher_forcing_ratio`` up to use more of it.\n",
    "\n",
    "\n"
   ]
  },
  {
   "cell_type": "code",
   "execution_count": 480,
   "metadata": {
    "id": "6EhvimkTMq6y",
    "ExecuteTime": {
     "end_time": "2024-01-23T20:02:50.868428900Z",
     "start_time": "2024-01-23T20:02:50.841685900Z"
    }
   },
   "outputs": [],
   "source": [
    "def train_epoch(dataloader, encoder, decoder, encoder_optimizer,\n",
    "                decoder_optimizer, criterion):\n",
    "    total_loss = 0\n",
    "    for data in dataloader:\n",
    "        input_tensor, target_tensor = data\n",
    "\n",
    "        encoder_optimizer.zero_grad()\n",
    "        decoder_optimizer.zero_grad()\n",
    "\n",
    "        encoder_outputs, encoder_hidden = encoder(input_tensor)\n",
    "        decoder_outputs, _, _ = decoder(encoder_outputs, encoder_hidden, target_tensor)\n",
    "\n",
    "        loss = criterion(\n",
    "            decoder_outputs.view(-1, decoder_outputs.size(-1)),\n",
    "            target_tensor.view(-1)\n",
    "        )\n",
    "        loss.backward()\n",
    "\n",
    "        encoder_optimizer.step()\n",
    "        decoder_optimizer.step()\n",
    "\n",
    "        total_loss += loss.item()\n",
    "\n",
    "    return total_loss / len(dataloader)"
   ]
  },
  {
   "cell_type": "markdown",
   "metadata": {
    "id": "aBrLWaLxMq6y"
   },
   "source": [
    "This is a helper function to print time elapsed and estimated time\n",
    "remaining given the current time and progress %.\n",
    "\n",
    "\n"
   ]
  },
  {
   "cell_type": "code",
   "execution_count": 481,
   "metadata": {
    "id": "QNqW4CMOMq6y",
    "ExecuteTime": {
     "end_time": "2024-01-23T20:02:52.917574800Z",
     "start_time": "2024-01-23T20:02:52.889774300Z"
    }
   },
   "outputs": [],
   "source": [
    "import time\n",
    "import math\n",
    "\n",
    "\n",
    "def asMinutes(s):\n",
    "    m = math.floor(s / 60)\n",
    "    s -= m * 60\n",
    "    return '%dm %ds' % (m, s)\n",
    "\n",
    "\n",
    "def timeSince(since, percent):\n",
    "    now = time.time()\n",
    "    s = now - since\n",
    "    es = s / (percent)\n",
    "    rs = es - s\n",
    "    return '%s (- %s)' % (asMinutes(s), asMinutes(rs))"
   ]
  },
  {
   "cell_type": "markdown",
   "metadata": {
    "id": "Yxb-c8ycMq6z"
   },
   "source": [
    "The whole training process looks like this:\n",
    "\n",
    "-  Start a timer\n",
    "-  Initialize optimizers and criterion\n",
    "-  Create set of training pairs\n",
    "-  Start empty losses array for plotting\n",
    "\n",
    "Then we call ``train`` many times and occasionally print the progress (%\n",
    "of examples, time so far, estimated time) and average loss.\n",
    "\n",
    "\n"
   ]
  },
  {
   "cell_type": "code",
   "execution_count": 482,
   "metadata": {
    "id": "ttxjJyBwMq6z",
    "ExecuteTime": {
     "end_time": "2024-01-23T20:02:54.855534200Z",
     "start_time": "2024-01-23T20:02:54.827580100Z"
    }
   },
   "outputs": [],
   "source": [
    "def train(train_dataloader, encoder, decoder, n_epochs, learning_rate=0.001,\n",
    "          print_every=100, plot_every=100):\n",
    "    start = time.time()\n",
    "    plot_losses = []\n",
    "    print_loss_total = 0  # Reset every print_every\n",
    "    plot_loss_total = 0  # Reset every plot_every\n",
    "\n",
    "    encoder_optimizer = optim.Adam(encoder.parameters(), lr=learning_rate)\n",
    "    decoder_optimizer = optim.Adam(decoder.parameters(), lr=learning_rate)\n",
    "    criterion = nn.NLLLoss()\n",
    "\n",
    "    for epoch in range(1, n_epochs + 1):\n",
    "        loss = train_epoch(train_dataloader, encoder, decoder, encoder_optimizer, decoder_optimizer, criterion)\n",
    "        print_loss_total += loss\n",
    "        plot_loss_total += loss\n",
    "\n",
    "        if epoch % print_every == 0:\n",
    "            print_loss_avg = print_loss_total / print_every\n",
    "            print_loss_total = 0\n",
    "            print('%s (%d %d%%) %.4f' % (timeSince(start, epoch / n_epochs),\n",
    "                                         epoch, epoch / n_epochs * 100, print_loss_avg))\n",
    "\n",
    "        if epoch % plot_every == 0:\n",
    "            plot_loss_avg = plot_loss_total / plot_every\n",
    "            plot_losses.append(plot_loss_avg)\n",
    "            plot_loss_total = 0\n",
    "\n",
    "    showPlot(plot_losses)"
   ]
  },
  {
   "cell_type": "markdown",
   "metadata": {
    "id": "ccRYOiwrMq6z"
   },
   "source": [
    "### Plotting results\n",
    "\n",
    "Plotting is done with matplotlib, using the array of loss values\n",
    "``plot_losses`` saved while training.\n",
    "\n",
    "\n"
   ]
  },
  {
   "cell_type": "code",
   "execution_count": 483,
   "metadata": {
    "id": "XYJatldTMq6z",
    "ExecuteTime": {
     "end_time": "2024-01-23T20:02:56.876428500Z",
     "start_time": "2024-01-23T20:02:56.845215700Z"
    }
   },
   "outputs": [],
   "source": [
    "import matplotlib.pyplot as plt\n",
    "\n",
    "plt.switch_backend('agg')\n",
    "import matplotlib.ticker as ticker\n",
    "import numpy as np\n",
    "\n",
    "\n",
    "def showPlot(points):\n",
    "    plt.figure()\n",
    "    fig, ax = plt.subplots()\n",
    "    # this locator puts ticks at regular intervals\n",
    "    loc = ticker.MultipleLocator(base=0.2)\n",
    "    ax.yaxis.set_major_locator(loc)\n",
    "    plt.plot(points)"
   ]
  },
  {
   "cell_type": "markdown",
   "metadata": {
    "id": "dFCFAtsgMq6z"
   },
   "source": [
    "## Evaluation\n",
    "\n",
    "Evaluation is mostly the same as training, but there are no targets so\n",
    "we simply feed the decoder's predictions back to itself for each step.\n",
    "Every time it predicts a word we add it to the output string, and if it\n",
    "predicts the EOS token we stop there. We also store the decoder's\n",
    "attention outputs for display later.\n",
    "\n",
    "\n"
   ]
  },
  {
   "cell_type": "code",
   "execution_count": 363,
   "metadata": {
    "id": "8MhiAx0AMq60",
    "ExecuteTime": {
     "end_time": "2024-01-23T18:46:50.508295900Z",
     "start_time": "2024-01-23T18:46:50.476380900Z"
    }
   },
   "outputs": [],
   "source": [
    "def evaluate(encoder, decoder, sentence, input_lang, output_lang):\n",
    "    with torch.no_grad():\n",
    "        input_tensor = tensorFromSentence(input_lang, sentence)\n",
    "\n",
    "        encoder_outputs, encoder_hidden = encoder(input_tensor)\n",
    "        decoder_outputs, decoder_hidden, decoder_attn = decoder(encoder_outputs, encoder_hidden)\n",
    "\n",
    "        _, topi = decoder_outputs.topk(1)\n",
    "        decoded_ids = topi.squeeze()\n",
    "\n",
    "        decoded_words = []\n",
    "        for idx in decoded_ids:\n",
    "            if idx.item() == EOS_token:\n",
    "                decoded_words.append('<EOS>')\n",
    "                break\n",
    "            decoded_words.append(output_lang.index2word[idx.item()])\n",
    "    return decoded_words, decoder_attn"
   ]
  },
  {
   "cell_type": "markdown",
   "metadata": {
    "id": "7ZbLFF5pMq60"
   },
   "source": [
    "We can evaluate random sentences from the training set and print out the\n",
    "input, target, and output to make some subjective quality judgements:\n",
    "\n",
    "\n"
   ]
  },
  {
   "cell_type": "code",
   "execution_count": 364,
   "metadata": {
    "id": "-tLGmQpxMq60",
    "ExecuteTime": {
     "end_time": "2024-01-23T18:46:52.331528500Z",
     "start_time": "2024-01-23T18:46:52.305019200Z"
    }
   },
   "outputs": [],
   "source": [
    "def evaluateRandomly(encoder, decoder, n=10):\n",
    "    for i in range(n):\n",
    "        pair = random.choice(pairs)\n",
    "        print('>', pair[0])\n",
    "        print('=', pair[1])\n",
    "        output_words, _ = evaluate(encoder, decoder, pair[0], input_lang, output_lang)\n",
    "        output_sentence = ' '.join(output_words)\n",
    "        print('<', output_sentence)\n",
    "        print('')"
   ]
  },
  {
   "cell_type": "markdown",
   "metadata": {
    "id": "xK6wP1cfMq60"
   },
   "source": [
    "## Training and Evaluating\n",
    "\n",
    "With all these helper functions in place (it looks like extra work, but\n",
    "it makes it easier to run multiple experiments) we can actually\n",
    "initialize a network and start training.\n",
    "\n",
    "Remember that the input sentences were heavily filtered. For this small\n",
    "dataset we can use relatively small networks of 256 hidden nodes and a\n",
    "single GRU layer. After about 40 minutes on a MacBook CPU we'll get some\n",
    "reasonable results.\n",
    "\n",
    "<div class=\"alert alert-info\"><h4>Note</h4><p>If you run this notebook you can train, interrupt the kernel,\n",
    "   evaluate, and continue training later. Comment out the lines where the\n",
    "   encoder and decoder are initialized and run ``trainIters`` again.</p></div>\n",
    "\n",
    "\n"
   ]
  },
  {
   "cell_type": "code",
   "execution_count": null,
   "outputs": [],
   "source": [],
   "metadata": {
    "collapsed": false
   }
  },
  {
   "cell_type": "code",
   "execution_count": 366,
   "outputs": [],
   "source": [
    "batch_size = 32\n",
    "length = MAX_LENGTH\n",
    "# input_lang, output_lang, train_dataloader = get_dataloader(batch_size) # [!] change\n",
    "n_input_word, n_output_word, train_dataloader, test_dataloader = get_dataloader_compression(batch_size, length, device)"
   ],
   "metadata": {
    "collapsed": false,
    "ExecuteTime": {
     "end_time": "2024-01-23T18:46:57.157573200Z",
     "start_time": "2024-01-23T18:46:57.113045800Z"
    }
   }
  },
  {
   "cell_type": "code",
   "execution_count": 367,
   "outputs": [
    {
     "name": "stdout",
     "output_type": "stream",
     "text": [
      "tensor([[ 51, 193,   5, 204, 209,   6,  33,   0,   0,   0],\n",
      "        [ 42, 149, 205,  17,   4,  41,   3,  17,   0,   0],\n",
      "        [ 35, 193,   6, 129,   0,   0,   0,   0,   0,   0],\n",
      "        [ 58,  65,   6,  80, 193,   0,   0,   0,   0,   0],\n",
      "        [ 56,  65,   6, 129,   0,   0,   0,   0,   0,   0],\n",
      "        [ 27, 193,   6, 129,   0,   0,   0,   0,   0,   0],\n",
      "        [ 27,  65,   6, 129,   0,   0,   0,   0,   0,   0],\n",
      "        [ 32,  16, 134, 168, 162, 245,   1, 137,   0,   0],\n",
      "        [ 28, 193,   5, 143, 241,   5,  49,   0,   0,   0],\n",
      "        [ 37, 193,   6, 129,   0,   0,   0,   0,   0,   0],\n",
      "        [ 35, 193,   6, 129,   0,   0,   0,   0,   0,   0],\n",
      "        [ 20,  10, 141, 177,   3,  50,  49,   0,   0,   0],\n",
      "        [ 54, 193,   6, 129,   0,   0,   0,   0,   0,   0],\n",
      "        [ 60, 193,   5, 198, 209,   6,  33,   0,   0,   0],\n",
      "        [ 36, 193,   6, 129,   0,   0,   0,   0,   0,   0],\n",
      "        [ 46,  23, 136,  81,   2,  35, 130, 105,   0,   0],\n",
      "        [ 49,  65,   6, 129,   0,   0,   0,   0,   0,   0],\n",
      "        [ 52,  65,   5, 134, 177,   4,  49,   0,   0,   0],\n",
      "        [ 35, 193,   6, 129,   0,   0,   0,   0,   0,   0],\n",
      "        [ 26, 149, 225,   3, 161,   0,   0,   0,   0,   0],\n",
      "        [ 22, 149, 225,   3,  67, 178,  90, 121,   0,   0],\n",
      "        [ 59, 158,  74,  49,   4,  36,  10, 213,   0,   0],\n",
      "        [ 28,  65,   5, 204,  49,   2,  33,   0,   0,   0],\n",
      "        [ 21, 156,  33,   3, 161,   0,   0,   0,   0,   0],\n",
      "        [ 50,  65,   6, 129,   0,   0,   0,   0,   0,   0],\n",
      "        [ 54,  65,   6, 129,   0,   0,   0,   0,   0,   0],\n",
      "        [ 20, 138, 204,  17,   4,  41,   3, 145,   0,   0],\n",
      "        [ 37, 193,   6, 129,   0,   0,   0,   0,   0,   0],\n",
      "        [ 49, 193,   6, 129,   0,   0,   0,   0,   0,   0],\n",
      "        [ 26, 193,   6, 129,   0,   0,   0,   0,   0,   0],\n",
      "        [ 29,   9, 136,   3,  82, 197,   1, 201,   0,   0],\n",
      "        [ 38, 152, 202, 113,   2,  65,   0,   0,   0,   0]], device='cuda:0')\n"
     ]
    }
   ],
   "source": [
    "batch = next(iter(test_dataloader))\n",
    "print(batch[1])"
   ],
   "metadata": {
    "collapsed": false,
    "ExecuteTime": {
     "end_time": "2024-01-23T18:46:58.588949300Z",
     "start_time": "2024-01-23T18:46:58.509163700Z"
    }
   }
  },
  {
   "cell_type": "code",
   "execution_count": 484,
   "metadata": {
    "id": "ODW8IxWoMq67",
    "ExecuteTime": {
     "end_time": "2024-01-23T20:03:00.612074Z",
     "start_time": "2024-01-23T20:03:00.555229100Z"
    }
   },
   "outputs": [],
   "source": [
    "hidden_size = 256\n",
    "batch_size = 64\n",
    "length = MAX_LENGTH\n",
    "\n",
    "# input_lang, output_lang, train_dataloader = get_dataloader(batch_size)\n",
    "n_input_word, n_output_word, lz77_train_loader, lz77_test_loader = get_dataloader_compression(batch_size, length,\n",
    "                                                                                              device)\n",
    "\n",
    "encoder = EncoderRNN(n_input_word, hidden_size).to(device)\n",
    "decoder = AttnDecoderRNN(hidden_size, n_output_word).to(device)"
   ]
  },
  {
   "cell_type": "code",
   "execution_count": 371,
   "outputs": [
    {
     "name": "stdout",
     "output_type": "stream",
     "text": [
      "tensor([[ 41,  30, 207, 230,   3, 130,  53, 161,   0,   0],\n",
      "        [ 48, 193,   6, 129,   0,   0,   0,   0,   0,   0],\n",
      "        [ 36,  65,   6,  10, 197,  97,   0,   0,   0,   0],\n",
      "        [ 32,  65,   6, 129,   0,   0,   0,   0,   0,   0],\n",
      "        [ 27, 193,   6,  77, 129,   0,   0,   0,   0,   0],\n",
      "        [ 40,  20, 143, 209,   4,  41,   3, 145,   0,   0],\n",
      "        [ 57,  65,   6,  73, 225,   0,   0,   0,   0,   0],\n",
      "        [ 18, 193,   6, 129,   0,   0,   0,   0,   0,   0],\n",
      "        [ 52,  65,   6, 129,   0,   0,   0,   0,   0,   0],\n",
      "        [ 28,  65,   6,   6,  70, 113,   0,   0,   0,   0],\n",
      "        [ 51,  26,   7,  38,  57,   3,  18, 145,   0,   0],\n",
      "        [ 45, 193,   5, 140, 177,   5,  49,   0,   0,   0],\n",
      "        [ 28, 193,   5, 206,  38, 194, 185,   0,   0,   0],\n",
      "        [ 46,  65,   6, 129,   0,   0,   0,   0,   0,   0],\n",
      "        [ 63,  65,   5, 137, 229, 121,   2, 145,   0,   0],\n",
      "        [ 37,  19,  13, 209,   4,  41,   3,  17,   0,   0],\n",
      "        [ 55, 145, 206, 177,   2,  34, 249, 165,   0,   0],\n",
      "        [ 56, 156, 200,  71, 244, 213,   1, 137,   0,   0],\n",
      "        [ 37, 147,  75, 134,  68, 197,   1, 137,   0,   0],\n",
      "        [ 50,  65,   6, 129,   0,   0,   0,   0,   0,   0],\n",
      "        [ 57,  65,   6, 129,   0,   0,   0,   0,   0,   0],\n",
      "        [ 24, 193,   5, 208, 177,   6,  33,   0,   0,   0],\n",
      "        [ 63,  65,   6, 129,   0,   0,   0,   0,   0,   0],\n",
      "        [ 57, 193,   6,  73,  33,   0,   0,   0,   0,   0],\n",
      "        [ 54,  65,   5, 141, 113,   5,  49,   0,   0,   0],\n",
      "        [ 55, 159,  33,   3, 161,   0,   0,   0,   0,   0],\n",
      "        [ 57,  29,  11, 136,   4, 213,   2,   9,   0,   0],\n",
      "        [ 53,  25, 161,   3, 161,   0,   0,   0,   0,   0],\n",
      "        [ 54,  65,   6, 129,   0,   0,   0,   0,   0,   0],\n",
      "        [ 57, 147,  79,  40,  19,  98, 229,  93,   0,   0],\n",
      "        [ 28,  18, 135, 195, 130, 181,   1,  73,   0,   0],\n",
      "        [ 33, 145,  78, 145,   2,  51,   9,   0,   0,   0],\n",
      "        [ 58,  65,   5, 205,  17,   6,  33,   0,   0,   0],\n",
      "        [ 42,  65,   6,  71, 225,   0,   0,   0,   0,   0],\n",
      "        [ 53, 193,   6,   7, 167, 145,   0,   0,   0,   0],\n",
      "        [ 21, 193,   5, 198, 113,   6,  33,   0,   0,   0],\n",
      "        [ 34, 193,   5, 135, 177,   5,  35, 233,   0,   0],\n",
      "        [ 45, 193,   5, 141,  49,   5,  34,  73,   0,   0],\n",
      "        [ 34, 193,   6, 129,   0,   0,   0,   0,   0,   0],\n",
      "        [ 48,  65,   6, 129,   0,   0,   0,   0,   0,   0],\n",
      "        [ 46, 193,   5, 202, 177,   6,  33,   0,   0,   0],\n",
      "        [ 62,  65,   6,   8, 168, 161,   0,   0,   0,   0],\n",
      "        [ 55, 193,   6, 129,   0,   0,   0,   0,   0,   0],\n",
      "        [ 61,  65,   6,  11,  67,  65,   0,   0,   0,   0],\n",
      "        [ 55, 193,   6, 129,   0,   0,   0,   0,   0,   0],\n",
      "        [ 60, 152,  10, 101, 179, 242, 221,  67,   0,   0],\n",
      "        [ 57, 193,   6, 129,   0,   0,   0,   0,   0,   0],\n",
      "        [ 21, 193,   5, 206,  17,   6,  33,   0,   0,   0],\n",
      "        [ 38, 147, 199, 209,   3,  51,  89,   0,   0,   0],\n",
      "        [ 56, 156, 197, 195, 100,  81, 173,  77,   0,   0],\n",
      "        [ 54, 193,   6,  72,  33,   0,   0,   0,   0,   0],\n",
      "        [ 52,  26,  77, 209,   2,  36,  42, 149,   0,   0],\n",
      "        [ 58,  29, 134, 113,   3,  52, 145,   0,   0,   0],\n",
      "        [ 30,  20, 225,   3, 161,   0,   0,   0,   0,   0],\n",
      "        [ 63,  65,   5, 134, 177,   4,  49,   0,   0,   0],\n",
      "        [ 58, 158, 225,   5,  81,   4,  36, 153,   0,   0],\n",
      "        [ 63,  32,  11, 168, 195,  18, 241, 143,   0,   0],\n",
      "        [ 41,  65,   5, 133, 113,   4,  49,   0,   0,   0],\n",
      "        [ 60, 141,  79, 241,   2,  41,   3,  17,   0,   0],\n",
      "        [ 20, 193,   6, 129,   0,   0,   0,   0,   0,   0],\n",
      "        [ 59, 154, 141, 200,  84, 170,  69, 235,   0,   0],\n",
      "        [ 33,  65,   6, 129,   0,   0,   0,   0,   0,   0],\n",
      "        [ 29,  65,   6, 129,   0,   0,   0,   0,   0,   0],\n",
      "        [ 49,  65,   5, 138, 209,   3,  49,   0,   0,   0]], device='cuda:0')\n"
     ]
    }
   ],
   "source": [
    "batch = next(iter(lz77_train_loader))\n",
    "print(batch[1])"
   ],
   "metadata": {
    "collapsed": false,
    "ExecuteTime": {
     "end_time": "2024-01-23T18:47:09.678752900Z",
     "start_time": "2024-01-23T18:47:09.544476Z"
    }
   }
  },
  {
   "cell_type": "code",
   "execution_count": null,
   "outputs": [],
   "source": [],
   "metadata": {
    "collapsed": false
   }
  },
  {
   "cell_type": "code",
   "execution_count": 485,
   "outputs": [
    {
     "data": {
      "text/plain": "AttnDecoderRNN(\n  (embedding): Embedding(257, 256)\n  (attention): BahdanauAttention(\n    (Wa): Linear(in_features=256, out_features=256, bias=True)\n    (Ua): Linear(in_features=256, out_features=256, bias=True)\n    (Va): Linear(in_features=256, out_features=1, bias=True)\n  )\n  (gru): GRU(512, 256, batch_first=True)\n  (out): Linear(in_features=256, out_features=257, bias=True)\n  (dropout): Dropout(p=0.1, inplace=False)\n)"
     },
     "execution_count": 485,
     "metadata": {},
     "output_type": "execute_result"
    }
   ],
   "source": [
    "encoder.train()\n",
    "decoder.train()"
   ],
   "metadata": {
    "collapsed": false,
    "ExecuteTime": {
     "end_time": "2024-01-23T20:03:04.034738400Z",
     "start_time": "2024-01-23T20:03:03.999180400Z"
    }
   }
  },
  {
   "cell_type": "code",
   "execution_count": 486,
   "outputs": [
    {
     "name": "stdout",
     "output_type": "stream",
     "text": [
      "0m 10s (- 35m 43s) (5 0%) 4.3286\n",
      "0m 18s (- 29m 50s) (10 1%) 3.6771\n",
      "0m 25s (- 27m 48s) (15 1%) 3.3752\n",
      "0m 35s (- 28m 38s) (20 2%) 3.2135\n",
      "0m 45s (- 29m 42s) (25 2%) 3.0834\n",
      "0m 56s (- 30m 41s) (30 3%) 2.9525\n",
      "1m 5s (- 30m 8s) (35 3%) 2.8158\n",
      "1m 15s (- 30m 6s) (40 4%) 2.6670\n",
      "1m 25s (- 30m 14s) (45 4%) 2.4885\n",
      "1m 34s (- 29m 52s) (50 5%) 2.3139\n",
      "1m 42s (- 29m 25s) (55 5%) 2.1324\n",
      "1m 52s (- 29m 20s) (60 6%) 1.9565\n",
      "2m 1s (- 29m 7s) (65 6%) 1.7835\n",
      "2m 9s (- 28m 37s) (70 7%) 1.6538\n",
      "2m 16s (- 28m 5s) (75 7%) 1.4951\n",
      "2m 24s (- 27m 40s) (80 8%) 1.3435\n",
      "2m 33s (- 27m 30s) (85 8%) 1.2841\n",
      "2m 42s (- 27m 25s) (90 9%) 1.4473\n",
      "2m 51s (- 27m 10s) (95 9%) 1.6130\n",
      "3m 1s (- 27m 11s) (100 10%) 1.1901\n",
      "3m 10s (- 27m 3s) (105 10%) 1.0937\n",
      "3m 18s (- 26m 46s) (110 11%) 1.0322\n",
      "3m 28s (- 26m 48s) (115 11%) 0.9818\n",
      "3m 37s (- 26m 37s) (120 12%) 0.9776\n",
      "3m 45s (- 26m 20s) (125 12%) 0.9132\n",
      "3m 54s (- 26m 7s) (130 13%) 0.9140\n",
      "4m 1s (- 25m 47s) (135 13%) 0.8575\n",
      "4m 9s (- 25m 33s) (140 14%) 0.8564\n",
      "4m 17s (- 25m 17s) (145 14%) 0.8310\n",
      "4m 26s (- 25m 9s) (150 15%) 0.7855\n",
      "4m 34s (- 24m 54s) (155 15%) 0.8245\n",
      "4m 43s (- 24m 48s) (160 16%) 0.7536\n",
      "4m 54s (- 24m 48s) (165 16%) 0.7505\n",
      "5m 3s (- 24m 43s) (170 17%) 0.7436\n",
      "5m 13s (- 24m 38s) (175 17%) 0.7390\n",
      "5m 21s (- 24m 23s) (180 18%) 0.7164\n",
      "5m 30s (- 24m 14s) (185 18%) 0.7057\n",
      "5m 41s (- 24m 14s) (190 19%) 0.7385\n",
      "5m 49s (- 24m 1s) (195 19%) 0.7019\n",
      "5m 59s (- 23m 57s) (200 20%) 0.6818\n",
      "6m 7s (- 23m 46s) (205 20%) 0.6814\n",
      "6m 15s (- 23m 34s) (210 21%) 0.6472\n",
      "6m 24s (- 23m 22s) (215 21%) 0.6572\n",
      "6m 32s (- 23m 10s) (220 22%) 0.6366\n",
      "6m 40s (- 22m 58s) (225 22%) 0.6404\n",
      "6m 50s (- 22m 54s) (230 23%) 0.6384\n",
      "7m 0s (- 22m 49s) (235 23%) 0.6441\n",
      "7m 9s (- 22m 41s) (240 24%) 0.6317\n",
      "7m 19s (- 22m 32s) (245 24%) 0.6343\n",
      "7m 29s (- 22m 29s) (250 25%) 0.6241\n",
      "7m 37s (- 22m 17s) (255 25%) 0.5994\n",
      "7m 45s (- 22m 3s) (260 26%) 0.5986\n",
      "7m 52s (- 21m 50s) (265 26%) 0.6264\n",
      "7m 59s (- 21m 37s) (270 27%) 0.6053\n",
      "8m 7s (- 21m 24s) (275 27%) 0.5958\n",
      "8m 14s (- 21m 12s) (280 28%) 0.5839\n",
      "8m 21s (- 20m 59s) (285 28%) 0.5785\n",
      "8m 29s (- 20m 46s) (290 28%) 0.5638\n",
      "8m 36s (- 20m 35s) (295 29%) 0.5585\n",
      "8m 45s (- 20m 26s) (300 30%) 0.5491\n",
      "8m 54s (- 20m 18s) (305 30%) 0.5567\n",
      "9m 2s (- 20m 8s) (310 31%) 0.5591\n",
      "9m 10s (- 19m 57s) (315 31%) 0.5597\n",
      "9m 18s (- 19m 47s) (320 32%) 0.5757\n",
      "9m 28s (- 19m 41s) (325 32%) 0.5651\n",
      "9m 37s (- 19m 33s) (330 33%) 0.5751\n",
      "9m 46s (- 19m 25s) (335 33%) 0.5502\n",
      "9m 55s (- 19m 15s) (340 34%) 0.5512\n",
      "10m 5s (- 19m 9s) (345 34%) 0.5446\n",
      "10m 13s (- 18m 59s) (350 35%) 0.5434\n",
      "10m 21s (- 18m 49s) (355 35%) 0.5334\n",
      "10m 29s (- 18m 39s) (360 36%) 0.5345\n",
      "10m 38s (- 18m 30s) (365 36%) 0.5253\n",
      "10m 46s (- 18m 20s) (370 37%) 0.5391\n",
      "10m 55s (- 18m 12s) (375 37%) 0.5228\n",
      "11m 4s (- 18m 4s) (380 38%) 0.5193\n",
      "11m 11s (- 17m 53s) (385 38%) 0.5279\n",
      "11m 19s (- 17m 42s) (390 39%) 0.5283\n",
      "11m 26s (- 17m 31s) (395 39%) 0.5421\n",
      "11m 33s (- 17m 20s) (400 40%) 0.5345\n",
      "11m 40s (- 17m 9s) (405 40%) 0.5379\n",
      "11m 48s (- 16m 58s) (410 41%) 0.5415\n",
      "11m 58s (- 16m 52s) (415 41%) 0.5376\n",
      "12m 7s (- 16m 45s) (420 42%) 0.5355\n",
      "12m 16s (- 16m 36s) (425 42%) 0.5146\n",
      "12m 24s (- 16m 26s) (430 43%) 0.5135\n",
      "12m 32s (- 16m 17s) (435 43%) 0.5160\n",
      "12m 40s (- 16m 7s) (440 44%) 0.5131\n",
      "12m 47s (- 15m 57s) (445 44%) 0.5321\n",
      "12m 54s (- 15m 47s) (450 45%) 0.5165\n",
      "13m 3s (- 15m 38s) (455 45%) 0.5128\n",
      "13m 11s (- 15m 29s) (460 46%) 0.5092\n",
      "13m 21s (- 15m 22s) (465 46%) 0.5118\n",
      "13m 29s (- 15m 12s) (470 47%) 0.5444\n",
      "13m 38s (- 15m 4s) (475 47%) 0.5219\n",
      "13m 46s (- 14m 55s) (480 48%) 0.5265\n",
      "13m 55s (- 14m 47s) (485 48%) 0.5184\n",
      "14m 4s (- 14m 38s) (490 49%) 0.5309\n",
      "14m 12s (- 14m 29s) (495 49%) 0.4921\n",
      "14m 21s (- 14m 21s) (500 50%) 0.5122\n",
      "14m 29s (- 14m 12s) (505 50%) 0.4789\n",
      "14m 37s (- 14m 2s) (510 51%) 0.4906\n",
      "14m 45s (- 13m 53s) (515 51%) 0.5060\n",
      "14m 52s (- 13m 44s) (520 52%) 0.4853\n",
      "15m 0s (- 13m 34s) (525 52%) 0.5208\n",
      "15m 7s (- 13m 24s) (530 53%) 0.4865\n",
      "15m 14s (- 13m 15s) (535 53%) 0.4911\n",
      "15m 22s (- 13m 5s) (540 54%) 0.4789\n",
      "15m 29s (- 12m 55s) (545 54%) 0.4800\n",
      "15m 36s (- 12m 46s) (550 55%) 0.4830\n",
      "15m 44s (- 12m 37s) (555 55%) 0.4951\n",
      "15m 51s (- 12m 27s) (560 56%) 0.4730\n",
      "15m 58s (- 12m 18s) (565 56%) 0.4752\n",
      "16m 6s (- 12m 8s) (570 56%) 0.4833\n",
      "16m 14s (- 12m 0s) (575 57%) 0.4865\n",
      "16m 22s (- 11m 51s) (580 57%) 0.4841\n",
      "16m 31s (- 11m 43s) (585 58%) 0.4841\n",
      "16m 39s (- 11m 34s) (590 59%) 0.4815\n",
      "16m 47s (- 11m 25s) (595 59%) 0.4854\n",
      "16m 54s (- 11m 16s) (600 60%) 0.4650\n",
      "17m 2s (- 11m 7s) (605 60%) 0.4603\n",
      "17m 10s (- 10m 58s) (610 61%) 0.4649\n",
      "17m 17s (- 10m 49s) (615 61%) 0.4712\n",
      "17m 25s (- 10m 40s) (620 62%) 0.4842\n",
      "17m 32s (- 10m 31s) (625 62%) 0.4830\n",
      "17m 39s (- 10m 22s) (630 63%) 0.5089\n",
      "17m 47s (- 10m 13s) (635 63%) 0.4913\n",
      "17m 54s (- 10m 4s) (640 64%) 0.4747\n",
      "18m 1s (- 9m 55s) (645 64%) 0.4681\n",
      "18m 9s (- 9m 46s) (650 65%) 0.4672\n",
      "18m 16s (- 9m 37s) (655 65%) 0.4863\n",
      "18m 23s (- 9m 28s) (660 66%) 0.4552\n",
      "18m 31s (- 9m 19s) (665 66%) 0.4671\n",
      "18m 38s (- 9m 10s) (670 67%) 0.4663\n",
      "18m 46s (- 9m 2s) (675 67%) 0.4638\n",
      "18m 53s (- 8m 53s) (680 68%) 0.4609\n",
      "19m 1s (- 8m 44s) (685 68%) 0.4738\n",
      "19m 8s (- 8m 36s) (690 69%) 0.4679\n",
      "19m 16s (- 8m 27s) (695 69%) 0.4650\n",
      "19m 24s (- 8m 18s) (700 70%) 0.4497\n",
      "19m 31s (- 8m 10s) (705 70%) 0.4853\n",
      "19m 39s (- 8m 1s) (710 71%) 0.4717\n",
      "19m 46s (- 7m 52s) (715 71%) 0.4835\n",
      "19m 53s (- 7m 44s) (720 72%) 0.4719\n",
      "20m 1s (- 7m 35s) (725 72%) 0.4548\n",
      "20m 8s (- 7m 26s) (730 73%) 0.4553\n",
      "20m 15s (- 7m 18s) (735 73%) 0.4581\n",
      "20m 23s (- 7m 9s) (740 74%) 0.4466\n",
      "20m 30s (- 7m 1s) (745 74%) 0.4501\n",
      "20m 38s (- 6m 52s) (750 75%) 0.4652\n",
      "20m 46s (- 6m 44s) (755 75%) 0.4707\n",
      "20m 54s (- 6m 36s) (760 76%) 0.4743\n",
      "21m 2s (- 6m 27s) (765 76%) 0.4737\n",
      "21m 10s (- 6m 19s) (770 77%) 0.4700\n",
      "21m 18s (- 6m 11s) (775 77%) 0.4596\n",
      "21m 26s (- 6m 2s) (780 78%) 0.4709\n",
      "21m 35s (- 5m 54s) (785 78%) 0.5125\n",
      "21m 43s (- 5m 46s) (790 79%) 0.4744\n",
      "21m 52s (- 5m 38s) (795 79%) 0.4575\n",
      "21m 59s (- 5m 29s) (800 80%) 0.4863\n",
      "22m 10s (- 5m 22s) (805 80%) 0.4779\n",
      "22m 18s (- 5m 13s) (810 81%) 0.4853\n",
      "22m 28s (- 5m 6s) (815 81%) 0.4538\n",
      "22m 36s (- 4m 57s) (820 82%) 0.4522\n",
      "22m 45s (- 4m 49s) (825 82%) 0.4537\n",
      "22m 54s (- 4m 41s) (830 83%) 0.4459\n",
      "23m 2s (- 4m 33s) (835 83%) 0.4405\n",
      "23m 9s (- 4m 24s) (840 84%) 0.4495\n",
      "23m 17s (- 4m 16s) (845 84%) 0.4440\n",
      "23m 24s (- 4m 7s) (850 85%) 0.4571\n",
      "23m 32s (- 3m 59s) (855 85%) 0.4611\n",
      "23m 40s (- 3m 51s) (860 86%) 0.4549\n",
      "23m 49s (- 3m 43s) (865 86%) 0.4686\n",
      "23m 56s (- 3m 34s) (870 87%) 0.4377\n",
      "24m 5s (- 3m 26s) (875 87%) 0.4468\n",
      "24m 12s (- 3m 18s) (880 88%) 0.4473\n",
      "24m 20s (- 3m 9s) (885 88%) 0.4716\n",
      "24m 28s (- 3m 1s) (890 89%) 0.4736\n",
      "24m 35s (- 2m 53s) (895 89%) 0.4374\n",
      "24m 43s (- 2m 44s) (900 90%) 0.4514\n",
      "24m 51s (- 2m 36s) (905 90%) 0.4429\n",
      "25m 0s (- 2m 28s) (910 91%) 0.5297\n",
      "25m 8s (- 2m 20s) (915 91%) 0.4960\n",
      "25m 17s (- 2m 11s) (920 92%) 0.4572\n",
      "25m 25s (- 2m 3s) (925 92%) 0.4590\n",
      "25m 36s (- 1m 55s) (930 93%) 0.4504\n",
      "25m 45s (- 1m 47s) (935 93%) 0.4353\n",
      "25m 53s (- 1m 39s) (940 94%) 0.4325\n",
      "26m 1s (- 1m 30s) (945 94%) 0.4391\n",
      "26m 10s (- 1m 22s) (950 95%) 0.4512\n",
      "26m 17s (- 1m 14s) (955 95%) 0.4569\n",
      "26m 25s (- 1m 6s) (960 96%) 0.4447\n",
      "26m 33s (- 0m 57s) (965 96%) 0.4372\n",
      "26m 40s (- 0m 49s) (970 97%) 0.4433\n",
      "26m 49s (- 0m 41s) (975 97%) 0.4311\n",
      "26m 57s (- 0m 33s) (980 98%) 0.4294\n",
      "27m 5s (- 0m 24s) (985 98%) 0.4799\n",
      "27m 12s (- 0m 16s) (990 99%) 0.4659\n",
      "27m 20s (- 0m 8s) (995 99%) 0.4458\n",
      "27m 27s (- 0m 0s) (1000 100%) 0.4321\n"
     ]
    }
   ],
   "source": [
    "\n",
    "train(lz77_train_loader, encoder, decoder, 1000, print_every=5, plot_every=5)"
   ],
   "metadata": {
    "collapsed": false,
    "ExecuteTime": {
     "end_time": "2024-01-23T20:30:34.239810200Z",
     "start_time": "2024-01-23T20:03:06.549077700Z"
    }
   }
  },
  {
   "cell_type": "code",
   "execution_count": 497,
   "outputs": [],
   "source": [
    "\n",
    "encode = torch.load('model_save/128_hidden_length_10_loss_0_056_encoder_p0_8.pth')\n",
    "\n",
    "decoder = torch.load('model_save/128_hidden_length_10_loss_0_056_decoder_p0_8.pth')"
   ],
   "metadata": {
    "collapsed": false,
    "ExecuteTime": {
     "end_time": "2024-01-23T21:37:23.606301600Z",
     "start_time": "2024-01-23T21:37:23.579839700Z"
    }
   }
  },
  {
   "cell_type": "code",
   "execution_count": 489,
   "outputs": [],
   "source": [
    "name = \"256_hidden_length_27_loss_0_43\"\n",
    "\n",
    "torch.save(encoder.state_dict(), \"model_save/\" + name + \"_decoder.pth\")\n",
    "torch.save(decoder.state_dict(), \"model_save/\" + name + \"_encoder.pth\")\n"
   ],
   "metadata": {
    "collapsed": false,
    "ExecuteTime": {
     "end_time": "2024-01-23T21:01:25.697737900Z",
     "start_time": "2024-01-23T21:01:25.647707300Z"
    }
   }
  },
  {
   "cell_type": "markdown",
   "source": [],
   "metadata": {
    "collapsed": false
   }
  },
  {
   "cell_type": "markdown",
   "metadata": {
    "id": "7IGrNlE6Mq67"
   },
   "source": [
    "Set dropout layers to ``eval`` mode\n",
    "\n"
   ]
  },
  {
   "cell_type": "code",
   "execution_count": 35,
   "outputs": [
    {
     "name": "stdout",
     "output_type": "stream",
     "text": [
      "cpu\n"
     ]
    }
   ],
   "source": [
    "print(device)"
   ],
   "metadata": {
    "collapsed": false,
    "ExecuteTime": {
     "end_time": "2024-01-21T21:53:46.374293700Z",
     "start_time": "2024-01-21T21:53:46.345267500Z"
    }
   }
  },
  {
   "cell_type": "code",
   "execution_count": 402,
   "outputs": [
    {
     "name": "stdout",
     "output_type": "stream",
     "text": [
      "tensor([[ 49, 153,  77, 209,   4,  41,   3, 145,   0,   0],\n",
      "        [ 55,  65,   5, 141, 113,   5,  35,   9,   0,   0],\n",
      "        [ 60, 145, 161,   5,  70,  67, 162,   9,   0,   0],\n",
      "        [ 17, 158, 143, 199,   4, 181,   2,  73,   0,   0],\n",
      "        [ 40, 193,   5, 143, 241,   2,  35, 121,   0,   0],\n",
      "        [ 48, 193,   5, 134, 131, 115, 249, 193,   0,   0],\n",
      "        [ 47,  24,   8,  17,   4,  35, 225, 169,   0,   0],\n",
      "        [ 22,  65,   6,  15, 136,  65,   0,   0,   0,   0],\n",
      "        [ 24,  17,  71, 164,  89,   3,  17, 185,   0,   0],\n",
      "        [ 22, 193,   5, 204, 134, 194,  89,   0,   0,   0],\n",
      "        [ 63,  65,   5, 141, 209,   5,  35, 113,   0,   0],\n",
      "        [ 29, 140,  75, 228, 146, 202,  29, 115,   0,   0],\n",
      "        [ 44, 193,   5, 198, 177,   6,  33,   0,   0,   0],\n",
      "        [ 64,  65,   5, 208,  40, 148,  97,   0,   0,   0],\n",
      "        [ 34, 193,   5, 144, 101,  73,   3, 145,   0,   0],\n",
      "        [ 50,  65,   6,   6, 134, 209,   0,   0,   0,   0],\n",
      "        [ 27,  65,   5, 137, 132,  66, 178,  17,   0,   0],\n",
      "        [ 36,  65,   6, 129,   0,   0,   0,   0,   0,   0],\n",
      "        [ 27, 193,   5, 205, 113,   6,  33,   0,   0,   0],\n",
      "        [ 28,  17, 225,   3, 133, 129,   0,   0,   0,   0],\n",
      "        [ 44,  22, 141, 198, 100, 234,  33, 173,   0,   0],\n",
      "        [ 32, 193,   6, 129,   0,   0,   0,   0,   0,   0],\n",
      "        [ 47,  24,  11, 104,  67, 226, 245, 251,   0,   0],\n",
      "        [ 25, 144,  71,  49,   2,  52, 233,   0,   0,   0],\n",
      "        [ 21, 193,   5, 205,  81,   3,  33,   0,   0,   0],\n",
      "        [ 25, 193,   6, 129,   0,   0,   0,   0,   0,   0],\n",
      "        [ 38, 147, 207,   8,   9,   3,  18,  45,   0,   0],\n",
      "        [ 59,  65,   6,  11, 200,  65,   0,   0,   0,   0],\n",
      "        [ 18,   9, 134, 101, 121,   3,  17, 137,   0,   0],\n",
      "        [ 56, 156, 207, 145,   4,  41,   3, 145,   0,   0],\n",
      "        [ 34, 193,   6, 129,   0,   0,   0,   0,   0,   0],\n",
      "        [ 53, 139, 205, 199,  98,  90, 165, 205,   0,   0],\n",
      "        [ 34,  65,   6, 129,   0,   0,   0,   0,   0,   0],\n",
      "        [ 55,  65,   5, 208,   8,   4,  97,   0,   0,   0],\n",
      "        [ 56,  65,   5, 136,  68, 169,   3, 145,   0,   0],\n",
      "        [ 45,  65,   5, 206, 241,   6,  33,   0,   0,   0],\n",
      "        [ 34, 193,   5, 138, 113,   2,  49,   0,   0,   0],\n",
      "        [ 54,  10, 206,  81,   2,  52,  41,   0,   0,   0],\n",
      "        [ 61, 193,   6,   8, 104, 177,   0,   0,   0,   0],\n",
      "        [ 32,  16, 142, 177,   2,  65,   0,   0,   0,   0],\n",
      "        [ 63,  65,   6, 129,   0,   0,   0,   0,   0,   0],\n",
      "        [ 55, 193,   6, 129,   0,   0,   0,   0,   0,   0],\n",
      "        [ 27,  14,  11,  40,  98, 162, 153, 163,   0,   0],\n",
      "        [ 25,  65,   6,  69,  65,   0,   0,   0,   0,   0],\n",
      "        [ 52,  65,   6,  15, 199,  97,   0,   0,   0,   0],\n",
      "        [ 18, 193,   6, 129,   0,   0,   0,   0,   0,   0],\n",
      "        [ 56,  31, 136, 168, 164, 210, 109, 221,   0,   0],\n",
      "        [ 60,  30, 140,  81,   4,  36, 178,  53,   0,   0],\n",
      "        [ 23, 193,   6, 129,   0,   0,   0,   0,   0,   0],\n",
      "        [ 24,  65,   6, 129,   0,   0,   0,   0,   0,   0],\n",
      "        [ 42, 193,   6, 129,   0,   0,   0,   0,   0,   0],\n",
      "        [ 54, 193,   6,  79,  97,   0,   0,   0,   0,   0],\n",
      "        [ 25,  65,   6, 129,   0,   0,   0,   0,   0,   0],\n",
      "        [ 64,  65,   6,  74,  65,   0,   0,   0,   0,   0],\n",
      "        [ 18, 137, 203, 227,  52, 202, 229,  71,   0,   0],\n",
      "        [ 55, 152,  14, 177,   4,  36, 242, 249,   0,   0],\n",
      "        [ 30,  32,  97,   3, 161,   0,   0,   0,   0,   0],\n",
      "        [ 45,  65,   6, 129,   0,   0,   0,   0,   0,   0],\n",
      "        [ 48,  65,   6, 129,   0,   0,   0,   0,   0,   0],\n",
      "        [ 30, 193,   6,  71, 225,   0,   0,   0,   0,   0],\n",
      "        [ 19,  65,   5, 202, 197, 131, 113,   0,   0,   0],\n",
      "        [ 17, 139,   6,   4, 162, 210, 213,  81,   0,   0],\n",
      "        [ 42, 149, 208, 136, 201,   3,  18,  77,   0,   0],\n",
      "        [ 43,  22,  11, 209,   4,  41,   3, 145,   0,   0]], device='cuda:0')\n"
     ]
    }
   ],
   "source": [
    "batch = next(iter(lz77_test_loader))\n",
    "print(batch[1])"
   ],
   "metadata": {
    "collapsed": false,
    "ExecuteTime": {
     "end_time": "2024-01-23T19:34:54.168933Z",
     "start_time": "2024-01-23T19:34:54.067869100Z"
    }
   }
  },
  {
   "cell_type": "code",
   "execution_count": 506,
   "outputs": [
    {
     "ename": "AttributeError",
     "evalue": "'collections.OrderedDict' object has no attribute 'eval'",
     "output_type": "error",
     "traceback": [
      "\u001B[1;31m---------------------------------------------------------------------------\u001B[0m",
      "\u001B[1;31mAttributeError\u001B[0m                            Traceback (most recent call last)",
      "Cell \u001B[1;32mIn[506], line 2\u001B[0m\n\u001B[0;32m      1\u001B[0m encoder\u001B[38;5;241m.\u001B[39meval()\n\u001B[1;32m----> 2\u001B[0m decoder\u001B[38;5;241m.\u001B[39meval()\n\u001B[0;32m      4\u001B[0m encoder_raw \u001B[38;5;241m=\u001B[39m EncoderRNN(n_input_word, hidden_size)\u001B[38;5;241m.\u001B[39mto(device)\n\u001B[0;32m      5\u001B[0m decoder_raw \u001B[38;5;241m=\u001B[39m AttnDecoderRNN(hidden_size, n_output_word)\u001B[38;5;241m.\u001B[39mto(device)\n",
      "\u001B[1;31mAttributeError\u001B[0m: 'collections.OrderedDict' object has no attribute 'eval'"
     ]
    }
   ],
   "source": [
    "encoder.eval()\n",
    "decoder.eval()\n",
    "\n",
    "encoder_raw = EncoderRNN(n_input_word, hidden_size).to(device)\n",
    "decoder_raw = AttnDecoderRNN(hidden_size, n_output_word).to(device)\n",
    "\n",
    "batch = next(iter(lz77_test_loader))\n",
    "\n",
    "feature = batch[0][0].unsqueeze(0)\n",
    "target = batch[1][0]\n",
    "\n",
    "print(feature)\n",
    "print(target)\n",
    "print()\n",
    "\n",
    "encoder_outputs, encoder_hidden = encoder(feature)\n",
    "decoder_outputs, decoder_hidden, decoder_attn = decoder(encoder_outputs, encoder_hidden)\n",
    "\n",
    "_, topi = decoder_outputs.topk(1)\n",
    "decoded_ids = topi.squeeze()\n",
    "\n",
    "print(decoded_ids)\n",
    "print(device)"
   ],
   "metadata": {
    "collapsed": false,
    "ExecuteTime": {
     "end_time": "2024-01-23T22:29:03.856213400Z",
     "start_time": "2024-01-23T22:29:03.795536800Z"
    }
   }
  },
  {
   "cell_type": "code",
   "execution_count": 505,
   "outputs": [
    {
     "name": "stdout",
     "output_type": "stream",
     "text": [
      "tensor([5, 5, 5, 6, 6, 5, 0, 0, 0], device='cuda:0')\n",
      "tensor([ 60,  30, 144, 136, 195,  34,  61, 159,  69,  63,  30, 142,   8,  98,\n",
      "        194,  61, 237,  35,  33,  22,  71,  69,  65,   0,   0,   0,   0],\n",
      "       device='cuda:0')\n"
     ]
    },
    {
     "ename": "TypeError",
     "evalue": "'collections.OrderedDict' object is not callable",
     "output_type": "error",
     "traceback": [
      "\u001B[1;31m---------------------------------------------------------------------------\u001B[0m",
      "\u001B[1;31mTypeError\u001B[0m                                 Traceback (most recent call last)",
      "Cell \u001B[1;32mIn[505], line 8\u001B[0m\n\u001B[0;32m      5\u001B[0m \u001B[38;5;28mprint\u001B[39m()\n\u001B[0;32m      7\u001B[0m encoder_outputs, encoder_hidden \u001B[38;5;241m=\u001B[39m encoder(feature)\n\u001B[1;32m----> 8\u001B[0m decoder_outputs, decoder_hidden, decoder_attn \u001B[38;5;241m=\u001B[39m decoder(encoder_outputs, encoder_hidden)\n\u001B[0;32m     10\u001B[0m _, topi \u001B[38;5;241m=\u001B[39m decoder_outputs\u001B[38;5;241m.\u001B[39mtopk(\u001B[38;5;241m1\u001B[39m)\n\u001B[0;32m     11\u001B[0m decoded_ids \u001B[38;5;241m=\u001B[39m topi\u001B[38;5;241m.\u001B[39msqueeze()\n",
      "\u001B[1;31mTypeError\u001B[0m: 'collections.OrderedDict' object is not callable"
     ]
    }
   ],
   "source": [
    "feature = torch.tensor([5, 5, 5, 6, 6, 5, 0, 0, 0]).to(device)\n",
    "\n",
    "print(feature)\n",
    "print(target)\n",
    "print()\n",
    "\n",
    "encoder_outputs, encoder_hidden = encoder(feature)\n",
    "decoder_outputs, decoder_hidden, decoder_attn = decoder(encoder_outputs, encoder_hidden)\n",
    "\n",
    "_, topi = decoder_outputs.topk(1)\n",
    "decoded_ids = topi.squeeze()\n",
    "\n",
    "print(decoded_ids)\n",
    "print(device)"
   ],
   "metadata": {
    "collapsed": false,
    "ExecuteTime": {
     "end_time": "2024-01-23T22:28:52.153470Z",
     "start_time": "2024-01-23T22:28:52.109569700Z"
    }
   }
  },
  {
   "cell_type": "code",
   "execution_count": 37,
   "metadata": {
    "id": "5sftTLksMq67",
    "ExecuteTime": {
     "end_time": "2024-01-21T21:53:53.258974200Z",
     "start_time": "2024-01-21T21:53:53.180447800Z"
    }
   },
   "outputs": [
    {
     "ename": "NameError",
     "evalue": "name 'pairs' is not defined",
     "output_type": "error",
     "traceback": [
      "\u001B[1;31m---------------------------------------------------------------------------\u001B[0m",
      "\u001B[1;31mNameError\u001B[0m                                 Traceback (most recent call last)",
      "Cell \u001B[1;32mIn[37], line 3\u001B[0m\n\u001B[0;32m      1\u001B[0m encoder\u001B[38;5;241m.\u001B[39meval()\n\u001B[0;32m      2\u001B[0m decoder\u001B[38;5;241m.\u001B[39meval()\n\u001B[1;32m----> 3\u001B[0m evaluateRandomly(encoder, decoder)\n",
      "Cell \u001B[1;32mIn[24], line 3\u001B[0m, in \u001B[0;36mevaluateRandomly\u001B[1;34m(encoder, decoder, n)\u001B[0m\n\u001B[0;32m      1\u001B[0m \u001B[38;5;28;01mdef\u001B[39;00m \u001B[38;5;21mevaluateRandomly\u001B[39m(encoder, decoder, n\u001B[38;5;241m=\u001B[39m\u001B[38;5;241m10\u001B[39m):\n\u001B[0;32m      2\u001B[0m     \u001B[38;5;28;01mfor\u001B[39;00m i \u001B[38;5;129;01min\u001B[39;00m \u001B[38;5;28mrange\u001B[39m(n):\n\u001B[1;32m----> 3\u001B[0m         pair \u001B[38;5;241m=\u001B[39m random\u001B[38;5;241m.\u001B[39mchoice(pairs)\n\u001B[0;32m      4\u001B[0m         \u001B[38;5;28mprint\u001B[39m(\u001B[38;5;124m'\u001B[39m\u001B[38;5;124m>\u001B[39m\u001B[38;5;124m'\u001B[39m, pair[\u001B[38;5;241m0\u001B[39m])\n\u001B[0;32m      5\u001B[0m         \u001B[38;5;28mprint\u001B[39m(\u001B[38;5;124m'\u001B[39m\u001B[38;5;124m=\u001B[39m\u001B[38;5;124m'\u001B[39m, pair[\u001B[38;5;241m1\u001B[39m])\n",
      "\u001B[1;31mNameError\u001B[0m: name 'pairs' is not defined"
     ]
    }
   ],
   "source": [
    "encoder.eval()\n",
    "decoder.eval()\n",
    "evaluateRandomly(encoder, decoder)"
   ]
  },
  {
   "cell_type": "markdown",
   "metadata": {
    "id": "v0_5xORjMq68"
   },
   "source": [
    "### Visualizing Attention\n",
    "\n",
    "A useful property of the attention mechanism is its highly interpretable\n",
    "outputs. Because it is used to weight specific encoder outputs of the\n",
    "input sequence, we can imagine looking where the network is focused most\n",
    "at each time step.\n",
    "\n",
    "You could simply run ``plt.matshow(attentions)`` to see attention output\n",
    "displayed as a matrix. For a better viewing experience we will do the\n",
    "extra work of adding axes and labels:\n",
    "\n",
    "\n"
   ]
  },
  {
   "cell_type": "code",
   "execution_count": 38,
   "metadata": {
    "id": "u9GSl_2vMq68",
    "ExecuteTime": {
     "end_time": "2024-01-21T21:54:31.320881500Z",
     "start_time": "2024-01-21T21:54:31.236509600Z"
    }
   },
   "outputs": [
    {
     "ename": "NameError",
     "evalue": "name 'input_lang' is not defined",
     "output_type": "error",
     "traceback": [
      "\u001B[1;31m---------------------------------------------------------------------------\u001B[0m",
      "\u001B[1;31mNameError\u001B[0m                                 Traceback (most recent call last)",
      "Cell \u001B[1;32mIn[38], line 26\u001B[0m\n\u001B[0;32m     22\u001B[0m     \u001B[38;5;28mprint\u001B[39m(\u001B[38;5;124m'\u001B[39m\u001B[38;5;124moutput =\u001B[39m\u001B[38;5;124m'\u001B[39m, \u001B[38;5;124m'\u001B[39m\u001B[38;5;124m \u001B[39m\u001B[38;5;124m'\u001B[39m\u001B[38;5;241m.\u001B[39mjoin(output_words))\n\u001B[0;32m     23\u001B[0m     showAttention(input_sentence, output_words, attentions[\u001B[38;5;241m0\u001B[39m, :\u001B[38;5;28mlen\u001B[39m(output_words), :])\n\u001B[1;32m---> 26\u001B[0m evaluateAndShowAttention(\u001B[38;5;124m'\u001B[39m\u001B[38;5;124mil n est pas aussi grand que son pere\u001B[39m\u001B[38;5;124m'\u001B[39m)\n\u001B[0;32m     28\u001B[0m evaluateAndShowAttention(\u001B[38;5;124m'\u001B[39m\u001B[38;5;124mje suis trop fatigue pour conduire\u001B[39m\u001B[38;5;124m'\u001B[39m)\n\u001B[0;32m     30\u001B[0m evaluateAndShowAttention(\u001B[38;5;124m'\u001B[39m\u001B[38;5;124mje suis desole si c est une question idiote\u001B[39m\u001B[38;5;124m'\u001B[39m)\n",
      "Cell \u001B[1;32mIn[38], line 20\u001B[0m, in \u001B[0;36mevaluateAndShowAttention\u001B[1;34m(input_sentence)\u001B[0m\n\u001B[0;32m     19\u001B[0m \u001B[38;5;28;01mdef\u001B[39;00m \u001B[38;5;21mevaluateAndShowAttention\u001B[39m(input_sentence):\n\u001B[1;32m---> 20\u001B[0m     output_words, attentions \u001B[38;5;241m=\u001B[39m evaluate(encoder, decoder, input_sentence, input_lang, output_lang)\n\u001B[0;32m     21\u001B[0m     \u001B[38;5;28mprint\u001B[39m(\u001B[38;5;124m'\u001B[39m\u001B[38;5;124minput =\u001B[39m\u001B[38;5;124m'\u001B[39m, input_sentence)\n\u001B[0;32m     22\u001B[0m     \u001B[38;5;28mprint\u001B[39m(\u001B[38;5;124m'\u001B[39m\u001B[38;5;124moutput =\u001B[39m\u001B[38;5;124m'\u001B[39m, \u001B[38;5;124m'\u001B[39m\u001B[38;5;124m \u001B[39m\u001B[38;5;124m'\u001B[39m\u001B[38;5;241m.\u001B[39mjoin(output_words))\n",
      "\u001B[1;31mNameError\u001B[0m: name 'input_lang' is not defined"
     ]
    }
   ],
   "source": [
    "def showAttention(input_sentence, output_words, attentions):\n",
    "    fig = plt.figure()\n",
    "    ax = fig.add_subplot(111)\n",
    "    cax = ax.matshow(attentions.cpu().numpy(), cmap='bone')\n",
    "    fig.colorbar(cax)\n",
    "\n",
    "    # Set up axes\n",
    "    ax.set_xticklabels([''] + input_sentence.split(' ') +\n",
    "                       ['<EOS>'], rotation=90)\n",
    "    ax.set_yticklabels([''] + output_words)\n",
    "\n",
    "    # Show label at every tick\n",
    "    ax.xaxis.set_major_locator(ticker.MultipleLocator(1))\n",
    "    ax.yaxis.set_major_locator(ticker.MultipleLocator(1))\n",
    "\n",
    "    plt.show()\n",
    "\n",
    "\n",
    "def evaluateAndShowAttention(input_sentence):\n",
    "    output_words, attentions = evaluate(encoder, decoder, input_sentence, input_lang, output_lang)\n",
    "    print('input =', input_sentence)\n",
    "    print('output =', ' '.join(output_words))\n",
    "    showAttention(input_sentence, output_words, attentions[0, :len(output_words), :])\n",
    "\n",
    "\n",
    "evaluateAndShowAttention('il n est pas aussi grand que son pere')\n",
    "\n",
    "evaluateAndShowAttention('je suis trop fatigue pour conduire')\n",
    "\n",
    "evaluateAndShowAttention('je suis desole si c est une question idiote')\n",
    "\n",
    "evaluateAndShowAttention('je suis reellement fiere de vous')"
   ]
  },
  {
   "cell_type": "markdown",
   "metadata": {
    "id": "XbwUkM2JMq68"
   },
   "source": [
    "## Exercises\n",
    "\n",
    "-  Try with a different dataset\n",
    "\n",
    "   -  Another language pair\n",
    "   -  Human → Machine (e.g. IOT commands)\n",
    "   -  Chat → Response\n",
    "   -  Question → Answer\n",
    "\n",
    "-  Replace the embeddings with pretrained word embeddings such as ``word2vec`` or\n",
    "   ``GloVe``\n",
    "-  Try with more layers, more hidden units, and more sentences. Compare\n",
    "   the training time and results.\n",
    "-  If you use a translation file where pairs have two of the same phrase\n",
    "   (``I am test \\t I am test``), you can use this as an autoencoder. Try\n",
    "   this:\n",
    "\n",
    "   -  Train as an autoencoder\n",
    "   -  Save only the Encoder network\n",
    "   -  Train a new Decoder for translation from there\n",
    "\n",
    "\n"
   ]
  }
 ],
 "metadata": {
  "kernelspec": {
   "display_name": "Python 3",
   "language": "python",
   "name": "python3"
  },
  "language_info": {
   "codemirror_mode": {
    "name": "ipython",
    "version": 3
   },
   "file_extension": ".py",
   "mimetype": "text/x-python",
   "name": "python",
   "nbconvert_exporter": "python",
   "pygments_lexer": "ipython3",
   "version": "3.10.13"
  },
  "colab": {
   "provenance": []
  }
 },
 "nbformat": 4,
 "nbformat_minor": 0
}
