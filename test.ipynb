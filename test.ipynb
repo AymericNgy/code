{
 "cells": [
  {
   "cell_type": "code",
   "execution_count": 1,
   "id": "initial_id",
   "metadata": {
    "collapsed": true,
    "ExecuteTime": {
     "end_time": "2024-01-21T13:02:42.223011100Z",
     "start_time": "2024-01-21T13:02:42.211025100Z"
    }
   },
   "outputs": [],
   "source": [
    "import lzma\n",
    "\n",
    "lzc = lzma.LZMACompressor()\n",
    "out1 = lzc.compress(b\"Some data\\n\")\n",
    "out2 = lzc.compress(b\"Another piece of data\\n\")\n",
    "out3 = lzc.compress(b\"Even more data\\n\")\n",
    "out4 = lzc.flush()\n",
    "# Concatenate all the partial results:\n",
    "result = b\"\".join([out1, out2, out3, out4])"
   ]
  },
  {
   "cell_type": "code",
   "execution_count": 19,
   "outputs": [
    {
     "name": "stdout",
     "output_type": "stream",
     "text": [
      "b'\\xfd7zXZ\\x00\\x00\\x04\\xe6\\xd6\\xb4F\\x02\\x00!\\x01\\x16\\x00\\x00\\x00t/\\xe5\\xa3\\xe0\\x00\\\\\\x00\\t]\\x000\\x98\\xa5\\x03\\xd9\\xe8\\x00\\x00\\x00\\x00\\x00\\x00\\x00QAk\\x99\\xeb\\xc2\\xe7V\\x00\\x01%]\\x85H\\xaf\\xdd\\x1f\\xb6\\xf3}\\x01\\x00\\x00\\x00\\x00\\x04YZ'\n"
     ]
    }
   ],
   "source": [
    "import lzma\n",
    "data_in = b\"abababababa\"\n",
    "data_out = lzma.compress(data_in)\n",
    "print(data_out)"
   ],
   "metadata": {
    "collapsed": false,
    "ExecuteTime": {
     "end_time": "2024-01-21T13:10:43.741564700Z",
     "start_time": "2024-01-21T13:10:43.726866800Z"
    }
   },
   "id": "dcb2ea9431fffdc4"
  },
  {
   "cell_type": "code",
   "execution_count": 21,
   "outputs": [
    {
     "ename": "OSError",
     "evalue": "AutoTokenizer is designed to be instantiated using the `AutoTokenizer.from_pretrained(pretrained_model_name_or_path)` method.",
     "output_type": "error",
     "traceback": [
      "\u001B[1;31m---------------------------------------------------------------------------\u001B[0m",
      "\u001B[1;31mOSError\u001B[0m                                   Traceback (most recent call last)",
      "Cell \u001B[1;32mIn[21], line 2\u001B[0m\n\u001B[0;32m      1\u001B[0m \u001B[38;5;28;01mfrom\u001B[39;00m \u001B[38;5;21;01mtransformers\u001B[39;00m \u001B[38;5;28;01mimport\u001B[39;00m AutoTokenizer\n\u001B[1;32m----> 2\u001B[0m tokenizer \u001B[38;5;241m=\u001B[39m AutoTokenizer()\n",
      "File \u001B[1;32m~\\miniconda3\\envs\\ReinforLearning\\Lib\\site-packages\\transformers\\models\\auto\\tokenization_auto.py:545\u001B[0m, in \u001B[0;36mAutoTokenizer.__init__\u001B[1;34m(self)\u001B[0m\n\u001B[0;32m    544\u001B[0m \u001B[38;5;28;01mdef\u001B[39;00m \u001B[38;5;21m__init__\u001B[39m(\u001B[38;5;28mself\u001B[39m):\n\u001B[1;32m--> 545\u001B[0m     \u001B[38;5;28;01mraise\u001B[39;00m \u001B[38;5;167;01mEnvironmentError\u001B[39;00m(\n\u001B[0;32m    546\u001B[0m         \u001B[38;5;124m\"\u001B[39m\u001B[38;5;124mAutoTokenizer is designed to be instantiated \u001B[39m\u001B[38;5;124m\"\u001B[39m\n\u001B[0;32m    547\u001B[0m         \u001B[38;5;124m\"\u001B[39m\u001B[38;5;124musing the `AutoTokenizer.from_pretrained(pretrained_model_name_or_path)` method.\u001B[39m\u001B[38;5;124m\"\u001B[39m\n\u001B[0;32m    548\u001B[0m     )\n",
      "\u001B[1;31mOSError\u001B[0m: AutoTokenizer is designed to be instantiated using the `AutoTokenizer.from_pretrained(pretrained_model_name_or_path)` method."
     ]
    }
   ],
   "source": [
    "from transformers import AutoTokenizer\n",
    "tokenizer = AutoTokenizer()"
   ],
   "metadata": {
    "collapsed": false,
    "ExecuteTime": {
     "end_time": "2024-01-21T16:11:20.968210900Z",
     "start_time": "2024-01-21T16:11:19.754800200Z"
    }
   },
   "id": "8e7b454bc52bab95"
  }
 ],
 "metadata": {
  "kernelspec": {
   "display_name": "Python 3",
   "language": "python",
   "name": "python3"
  },
  "language_info": {
   "codemirror_mode": {
    "name": "ipython",
    "version": 2
   },
   "file_extension": ".py",
   "mimetype": "text/x-python",
   "name": "python",
   "nbconvert_exporter": "python",
   "pygments_lexer": "ipython2",
   "version": "2.7.6"
  }
 },
 "nbformat": 4,
 "nbformat_minor": 5
}
